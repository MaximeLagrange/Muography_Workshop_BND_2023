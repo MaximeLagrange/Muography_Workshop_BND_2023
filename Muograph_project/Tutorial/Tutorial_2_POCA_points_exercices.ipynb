{
 "cells": [
  {
   "cell_type": "code",
   "execution_count": 1,
   "id": "4f071c3f",
   "metadata": {},
   "outputs": [
    {
     "name": "stdout",
     "output_type": "stream",
     "text": [
      "Tracking in progress...\n"
     ]
    },
    {
     "data": {
      "text/html": [
       "\n",
       "<style>\n",
       "    /* Turns off some styling */\n",
       "    progress {\n",
       "        /* gets rid of default border in Firefox and Opera. */\n",
       "        border: none;\n",
       "        /* Needs to be in here for Safari polyfill so background images work as expected. */\n",
       "        background-size: auto;\n",
       "    }\n",
       "    progress:not([value]), progress:not([value])::-webkit-progress-bar {\n",
       "        background: repeating-linear-gradient(45deg, #7e7e7e, #7e7e7e 10px, #5c5c5c 10px, #5c5c5c 20px);\n",
       "    }\n",
       "    .progress-bar-interrupted, .progress-bar-interrupted::-webkit-progress-bar {\n",
       "        background: #F44336;\n",
       "    }\n",
       "</style>\n"
      ],
      "text/plain": [
       "<IPython.core.display.HTML object>"
      ]
     },
     "metadata": {},
     "output_type": "display_data"
    },
    {
     "data": {
      "text/html": [
       "\n",
       "    <div>\n",
       "      <progress value='10000' class='' max='10000' style='width:300px; height:20px; vertical-align: middle;'></progress>\n",
       "      100.00% [10000/10000 00:05&lt;00:00]\n",
       "    </div>\n",
       "    "
      ],
      "text/plain": [
       "<IPython.core.display.HTML object>"
      ]
     },
     "metadata": {},
     "output_type": "display_data"
    },
    {
     "name": "stdout",
     "output_type": "stream",
     "text": [
      "Tracking completed!\n"
     ]
    }
   ],
   "source": [
    "#Usual suspects\n",
    "import matplotlib.pyplot as plt\n",
    "import numpy as np\n",
    "from typing import Tuple, Optional\n",
    "\n",
    "# Add path to our library\n",
    "import sys\n",
    "sys.path.insert(1,'../muograph/')\n",
    "\n",
    "# Import get_hits_from_csv from utils.py\n",
    "from utils.utils import get_hits_from_csv\n",
    "hits = get_hits_from_csv('../data/DataCu.csv')\n",
    "\n",
    "# Import the tracking class\n",
    "from tracking.tracking import Tracking\n",
    "\n",
    "# Run tracking for only n events\n",
    "n = 10000\n",
    "tracks = Tracking(hits=hits[:,:,:n])"
   ]
  },
  {
   "cell_type": "markdown",
   "id": "9fdfc2f7-cae0-4a53-9c62-c632846a6d94",
   "metadata": {
    "tags": []
   },
   "source": [
    "# <center> **Tutorial 2: POCA reconstruction algorithm**\n",
    "**POCA** stands for Point Of Closest Approach and is a very simple and completely geometric **algorithm** used for muon scattering tomography **image reconstruction**. It is based on the following **approximations**:\n",
    "\n",
    " - Muons are assumed to **scatter once** in the passive material\n",
    " - The **interaction point** is assumed to be at the **closest point between** the **incoming** and **outgoing tracks**.\n",
    " \n",
    "These assumptions poorly describe the true muon path since the latter undergo multiple throughout the all path within the material, as shown on the figure below:\n",
    " \n",
    "<img src=\"../images/POCA_sketch.png\">\n",
    "\n",
    "Based on these approximations, the **POCA point** is defined as the **closest point between the incoming and outgoing muon tracks**. In 2D, the POCA point is simply the interestction between two straigh lines (if non-parallels). In 3D, two straight lines do not intersect and the POCA point is **located** at the **center** of the **shortest segment connecting the two lines** (which is also perpendicular to both lines). \n",
    "\n",
    "<img src=\"../images/POCA_point_geometry_sketch.png\">\n",
    "\n",
    "But because the **POCA point** of 2 **parallel lines** is **not defined**, we need to get rid of such events before proceeding to POCA calculation. If two tracks are parallel, their scattering is close to zero. Thus, scattering angle can be used as a discriminator.\n",
    "\n",
    "## <center> **Exercice 1: parallel tracks rejection**\n",
    "\n",
    "As explained above, we must remove the events with parallel tracks. It can be done in 2 steps:\n",
    "    \n",
    " - 1 - Create a mask for parallel events rejection (a.k.a an array of bolleans, see example below). If you are completely knew to masking, you can have a look at this [tutorial](https://www.youtube.com/watch?v=sjIzRpVXd30).\n",
    " - 2 - Apply the mask to our data (a.k.a the instance of the `Tracking` class)\n",
    "    \n",
    "***N.B**: You might want to use the scattering angle*`dtheta` *as a discriminator. In order to find the appropriate value of the `dtheta` discriminator, you might want to plot the `dtheta` histogram*."
   ]
  },
  {
   "cell_type": "code",
   "execution_count": 2,
   "id": "9c63385c-8c6a-43a4-bdb7-0ed6fca47efb",
   "metadata": {},
   "outputs": [
    {
     "name": "stdout",
     "output_type": "stream",
     "text": [
      "[False  True  True  True  True False False False False False]\n",
      "x before masking =  [0 1 2 3 4 5 6 7 8 9]\n",
      "x after masking =  [1 2 3 4]\n"
     ]
    }
   ],
   "source": [
    "# Example\n",
    "\n",
    "# Some data\n",
    "x = np.array([0,1,2,3,4,5,6,7,8,9])\n",
    "\n",
    "# Mask \n",
    "mask = (x>0) & (x<5)\n",
    "print(mask)\n",
    "print(\"x before masking = \",x)\n",
    "print(\"x after masking = \", x[mask])"
   ]
  },
  {
   "cell_type": "markdown",
   "id": "cad7be41-c498-4233-96f7-4236a57ef186",
   "metadata": {},
   "source": [
    "#### **1 - Create a masking function**\n",
    "\n",
    "Create your masking function in the cell below. You can use the `plot_scatering_angles` function to visualize how your event filtering affects the scattering angle distribution:\n",
    "\n",
    "<center>`plot_scatering_angles(tracks=tracks, mask=my_mask)`\n",
    "\n",
    "Then compute how many events passed the selection."
   ]
  },
  {
   "cell_type": "code",
   "execution_count": 3,
   "id": "c261e16b-e2a8-47dd-8be8-549e0f9db907",
   "metadata": {},
   "outputs": [],
   "source": [
    "# Create your function here!\n",
    "\n",
    "def compute_parallel_tracks_mask(tracks:Tracking, dtheta_cut:float) -> np.ndarray:\n",
    "\n",
    "    '''\n",
    "    Create a mask based on a scattering angle.\n",
    "    \n",
    "    INPUT:\n",
    "     - dtheta_cut:float, the cut on scattering angle\n",
    "     - tracks:Tracking, an instance of the Tracking class\n",
    "    \n",
    "    OUTPUT:\n",
    "     - mask:np.ndarray, a boolean mask with size (tracks.n_event)\n",
    "    '''\n",
    "        \n",
    "    # Fill here\n",
    "    \n",
    "    return mask\n",
    "\n",
    "\n",
    "def plot_scatering_angles(tracks:Tracking, ranges:Tuple[float] = (1.,0.05), mask = None) -> None:\n",
    "\n",
    "    '''\n",
    "    Plots the scattering angle distribution. If a mask is provided, plots the masked scattering angle distribution.\n",
    "    '''\n",
    "    if(mask is None):\n",
    "        mask = np.ones_like(tracks.dtheta,dtype=bool)\n",
    "    else:\n",
    "        print(\"\\nmask rejected {} events\".format(len(mask)-mask.astype(int).sum()))\n",
    "    \n",
    "    # Plotting dtheta\n",
    "    fig,ax = plt.subplots(ncols=2,figsize=(10,3))\n",
    "    fig.suptitle(\"Scattering angle distribution\")\n",
    "    # from 0 - 1 rad\n",
    "    ax[0].hist(tracks.dtheta[mask],bins=100, range=(0,ranges[0]),log=True,color=\"green\")\n",
    "    ax[0].hist(tracks.dtheta[mask==False],bins=100, range=(0,ranges[0]),log=True,color=\"red\",label=\"rejected events\")\n",
    "    \n",
    "    ax[0].set_xlabel(r'$d\\theta$ [rad]')\n",
    "    # from 0 - .05 rad\n",
    "    ax[1].hist(tracks.dtheta[mask],bins=100, range=(0,ranges[1]),log=True,color='green')\n",
    "    ax[1].hist(tracks.dtheta[mask==False],bins=100, range=(0,ranges[1]),log=True,color='red',label=\"rejected events\")\n",
    "    ax[1].set_xlabel(r'$d\\theta$ [rad]')\n",
    "\n",
    "    if(mask.sum()!=len(mask)):\n",
    "        ax[0].legend()\n",
    "        ax[1].legend()\n",
    "        \n",
    "    plt.show()"
   ]
  },
  {
   "cell_type": "code",
   "execution_count": 4,
   "id": "144f7d5b-56ae-4315-bdca-d590e7862a59",
   "metadata": {},
   "outputs": [
    {
     "ename": "NameError",
     "evalue": "name 'dtheta_cut' is not defined",
     "output_type": "error",
     "traceback": [
      "\u001b[0;31m---------------------------------------------------------------------------\u001b[0m",
      "\u001b[0;31mNameError\u001b[0m                                 Traceback (most recent call last)",
      "Cell \u001b[0;32mIn[4], line 2\u001b[0m\n\u001b[1;32m      1\u001b[0m \u001b[38;5;66;03m# test your masking function here\u001b[39;00m\n\u001b[0;32m----> 2\u001b[0m parallel_mask \u001b[38;5;241m=\u001b[39m compute_parallel_tracks_mask(tracks, \u001b[43mdtheta_cut\u001b[49m)\n\u001b[1;32m      4\u001b[0m \u001b[38;5;66;03m# plot scattering angle distribution\u001b[39;00m\n\u001b[1;32m      5\u001b[0m plot_scatering_angles(tracks\u001b[38;5;241m=\u001b[39mtracks, mask\u001b[38;5;241m=\u001b[39mmask)\n",
      "\u001b[0;31mNameError\u001b[0m: name 'dtheta_cut' is not defined"
     ]
    }
   ],
   "source": [
    "# test your masking function here\n",
    "parallel_mask = compute_parallel_tracks_mask(tracks, dtheta_cut)\n",
    "\n",
    "# plot scattering angle distribution\n",
    "plot_scatering_angles(tracks=tracks, mask=mask)\n",
    "\n",
    "# compute number of rejected events, signal/background ratio\n"
   ]
  },
  {
   "cell_type": "markdown",
   "id": "2e326af7-23eb-4ae7-ba92-d18878b72b50",
   "metadata": {},
   "source": [
    "#### **2 - Apply the mask**\n",
    "\n",
    "The `Tracking` class has a method called `apply_mask()` which can be used to remove all events `i` for which `mask[i]==False`. Call it with your mask as an input. Now that you know how to apply mask, you can try to apply mask using other variables and see how it affects the distributions displayed by `tracks.plot_tracking_summary()`.\n",
    "\n",
    "Try to compare the $\\phi$ distribution before and after applying the cuts on scattering angle. What do you notice? What do you think is going on? What information does it give us about the object we are trying to image?"
   ]
  },
  {
   "cell_type": "code",
   "execution_count": null,
   "id": "f8ea4377-2d48-4714-9a13-2e85232b2e2a",
   "metadata": {},
   "outputs": [],
   "source": [
    "# COmpute tracks\n",
    "tracks = Tracking(hits=hits[:,:,:n])\n",
    "\n",
    "# Compute your mask\n",
    "mask = compute_parallel_tracks_mask(tracks=tracks)\n",
    "\n",
    "# plot tracking summary BEFORE applying cut\n",
    "from copy import deepcopy\n",
    "all_tracks = deepcopy(tracks)\n",
    "all_tracks.plot_tracking_summary()\n",
    "\n",
    "# Apply mask\n",
    "tracks.apply_mask(mask)\n",
    "\n",
    "# plot tracking summary AFTER applying cut\n",
    "tracks.plot_tracking_summary()"
   ]
  },
  {
   "cell_type": "markdown",
   "id": "5652a98c-68d9-4c32-bb8e-417f09e93721",
   "metadata": {},
   "source": [
    "## <center> **Exercice 2: POCA points computation**\n",
    "\n",
    "Now that we got rid of parallel events, we can compute the POCA points. The function `compute_poca_points` in the `reconstruction/poca.py` file computes the POCA point from the incoming and outgoing tracks. It takes as **input**:\n",
    "    \n",
    "- `track_in:np.ndarray`, incoming reconstructed track, with size (3,Nevent)\n",
    "- `track_out:np.ndarray`, outgoing reconstructed track, with size (3,Nevent)\n",
    "- `point_in:np.ndarray`, a point on V1, with size (3,Nevent)\n",
    "- `point_out:np.ndarray`, a point on V2, with size (3,Nevent)\n",
    "    \n",
    "and **returns**:\n",
    "\n",
    " - `POCA_points:np.ndarray`,  with size (3,Nevent)"
   ]
  },
  {
   "cell_type": "code",
   "execution_count": null,
   "id": "346947b9-7344-4325-9939-8a754f571add",
   "metadata": {},
   "outputs": [],
   "source": [
    "def compute_poca_points(self,\n",
    "                        track_in:np.ndarray,\n",
    "                        track_out:np.ndarray,\n",
    "                        point_in:np.ndarray,\n",
    "                        point_out:np.ndarray,) -> np.ndarray:\n",
    "    '''\n",
    "    INPUT: \n",
    "\n",
    "    - track_in:np.ndarray, incoming reconstructed track, with size (3,Nevent)\n",
    "    - track_out:np.ndarray, outgoing reconstructed track, with size (3,Nevent)\n",
    "    - point_in:np.ndarray, a point on V1, with size (3,Nevent)\n",
    "    - point_out:np.ndarray, a point on V2, with size (3,Nevent)\n",
    "\n",
    "    OUTPUT: \n",
    "    - POCA_points:np.ndarray,  with size (3,Nevent)\n",
    "\n",
    "    Given 2 lines V1, V2 aka incoming and outgoing tracks with parametric equation:\n",
    "    L1 = P1 + t*V1\n",
    "\n",
    "    1- A segment of shortest length between two 3D lines L1 L2 is perpendicular to both lines \n",
    "    (if L1 L2 are neither parallele or in the same plane). One must compute V3, vector perpendicular \n",
    "    to L1 and L2\n",
    "\n",
    "    2- Search for points where L3 = P1 + t1*V1 +t3*V3 crosses L2. One must find t1 and t2 for which:\n",
    "    L3 = P1 + t1*V1 +t3*V3 = P2 + t2*V2\n",
    "\n",
    "    3- Then POCA location M is the middle of the segment Q1-Q2 where Q1,2 = P1,2 +t1,2*V1,2\n",
    "\n",
    "    '''\n",
    "\n",
    "    P1, P2 = np.transpose(point_in), np.transpose(point_out)\n",
    "    V1, V2 = np.transpose(track_in), np.transpose(track_out)\n",
    "    V3 = np.cross(V2,V1)\n",
    "\n",
    "    RES = P2 - P1\n",
    "    LES = np.transpose(np.stack([V1,-V2,V3]),(1,2,0))\n",
    "\n",
    "    ts = np.linalg.solve(LES,RES)\n",
    "\n",
    "    t1 = np.stack([ts[:,0],ts[:,0],ts[:,0]],-1)\n",
    "    t2 = np.stack([ts[:,1],ts[:,1],ts[:,1]],-1)\n",
    "\n",
    "    Q1s,Q2s = P1+t1*V1, P2+t2*V2\n",
    "    M = (Q2s-Q1s)/2+Q1s\n",
    "\n",
    "    return M"
   ]
  },
  {
   "cell_type": "markdown",
   "id": "75dee7cb-9515-4410-bdc6-994cb3961e88",
   "metadata": {},
   "source": [
    "## <center> **Exercice 3: Using the POCA class**\n",
    "    \n",
    "Just like we did for out tracking algorithm, we can embed all of our function in the POCA class. I will make our life easier and bla, bla, bla...\n",
    "    \n",
    "Instanciating the POCA class requires 3 inputs: a instance of the tracking class, a value of scattering angle (in radiants) for paralell track filetering and an instance of the volume of interest class. The later is used to define the region of space that we want to scan."
   ]
  },
  {
   "cell_type": "code",
   "execution_count": null,
   "id": "91aec03e-75fd-4c0f-8d35-d95a268d6f9f",
   "metadata": {},
   "outputs": [],
   "source": [
    "# Run tracking \n",
    "tracks = Tracking(hits=hits[:,:,:1000])\n",
    "\n",
    "# defining the volume to scan\n",
    "from volume.volume import VolumeInterest\n",
    "voi = VolumeInterest(position = [0,0,-835],# along x,y and z, in mm\n",
    "                     dimension=[600,1000,300],# from left to right and along x,y,z, in mm\n",
    "                     voxel_width=20)# in mm\n",
    "\n",
    "# importing the POCA module\n",
    "from reconstruction.poca import POCA\n",
    "# Instanciating the POCA class\n",
    "poca = POCA(tracks = tracks,voi = voi, dtheta_cut = 0.005)"
   ]
  },
  {
   "cell_type": "code",
   "execution_count": null,
   "id": "615e7826-9110-4c4f-82e0-46eda0a33a0c",
   "metadata": {},
   "outputs": [],
   "source": []
  },
  {
   "cell_type": "code",
   "execution_count": null,
   "id": "d1f112ce-deae-499e-bcef-45b3944596da",
   "metadata": {},
   "outputs": [],
   "source": [
    "poca.triggered_vox_indices"
   ]
  },
  {
   "cell_type": "markdown",
   "id": "bc33bc2c-9b66-4def-8259-86ada45bb645",
   "metadata": {},
   "source": [
    "The **POCA class** has the following **attributes**:\n",
    " - `all_tracks:Tracking` The tracks received as input (contains ALL events)"
   ]
  },
  {
   "cell_type": "code",
   "execution_count": null,
   "id": "d6b6ce2f-7d86-4b9f-aff7-fc6561f7d65e",
   "metadata": {},
   "outputs": [],
   "source": [
    "poca.all_tracks, poca.all_tracks.plot_tracking_summary()"
   ]
  },
  {
   "cell_type": "markdown",
   "id": "3f5d3c9c-ce4e-47d7-b20c-6d3887db1021",
   "metadata": {},
   "source": [
    " - `parallele_mask`: The mask used to remove parallele events"
   ]
  },
  {
   "cell_type": "code",
   "execution_count": null,
   "id": "467b3a81-7e4e-48c4-bca5-e48d9e61436c",
   "metadata": {},
   "outputs": [],
   "source": [
    "poca.parallel_tracks_mask, len(poca.parallel_tracks_mask)"
   ]
  },
  {
   "cell_type": "markdown",
   "id": "a39fb1c5-9428-4551-b958-3869bb1e7daa",
   "metadata": {},
   "source": [
    " - `tracks`: The tracks after applying the mask (a.k.a after removing all parallel events)\n"
   ]
  },
  {
   "cell_type": "code",
   "execution_count": null,
   "id": "5763f9ed-c883-4180-93ee-8c3460d2d6f5",
   "metadata": {},
   "outputs": [],
   "source": [
    "poca.tracks.plot_tracking_summary()"
   ]
  },
  {
   "cell_type": "markdown",
   "id": "7b0c82c6-dd56-47d7-ba91-a95c1229bf1a",
   "metadata": {},
   "source": [
    " - `poca_points:np.ndarray`: The POCA points computed using `tracks` (and NOT `all_tracks`), with shape (n_event, 3)"
   ]
  },
  {
   "cell_type": "code",
   "execution_count": null,
   "id": "e79ad1e0-f7e2-401f-86b3-cd474e97f6af",
   "metadata": {},
   "outputs": [],
   "source": [
    "print(\"poca.poca_points have shape {}\".format(poca.poca_points.shape))\n",
    "event = np.random.randint(poca.tracks.n_event)\n",
    "print(\"Event {} poca point is located at x,y,z = {:.1f}, {:.1f}, {:.1f}\".format(event,\n",
    "                                                                            poca.poca_points[event,0],\n",
    "                                                                            poca.poca_points[event,1],\n",
    "                                                                            poca.poca_points[event,2]))"
   ]
  },
  {
   "cell_type": "markdown",
   "id": "26aef4bc-b0b7-4e87-8fe3-04d594643b4a",
   "metadata": {},
   "source": [
    "## <center> **Plotting POCA points**\n",
    "\n",
    "### Event-wise\n",
    "    \n",
    "We can now have a look at our poca points method. We can use the method from plotting.plotting to visualize the poca point location. We will plot two 2D projection: one in the XZ plane and another in the YZ plane."
   ]
  },
  {
   "cell_type": "code",
   "execution_count": null,
   "id": "954bcf88-9441-485e-9f28-7acded16933f",
   "metadata": {},
   "outputs": [],
   "source": [
    "import math\n",
    "mask = (tracks.dtheta*180/math.pi>5) & (tracks.dtheta*180/math.pi<8)\n",
    "event = mask.nonzero()[0][np.random.randint(len(mask.nonzero()[0]))]\n",
    "\n",
    "%matplotlib inline\n",
    "from plotting.plotting import plot_POCA_event\n",
    "plot_POCA_event(poca,event)"
   ]
  },
  {
   "cell_type": "markdown",
   "id": "b0ff9d37-5e19-497f-9183-b3e081ff8190",
   "metadata": {},
   "source": [
    "### 2D histogram\n",
    "\n",
    "The `plot_POCA_points_multi_projection()` method allow us to plot the POCA point of all muons of the `POCA` class. It requires as **input**:\n",
    "\n",
    " - `poca_points:np.ndarray`, the array containing the poca points, with shape (n_event,3).\n",
    " - `mask:np.ndarray`, an optional mask used to filter events, with shape (n_event).\n",
    " - `binning_xyz:Tuple[int]`, number of bin along x,y,z of the histograms.\n",
    " - `filename:str`, name of the output figure."
   ]
  },
  {
   "cell_type": "code",
   "execution_count": null,
   "id": "17be7404-5d65-4771-b11d-d43618aa3d25",
   "metadata": {},
   "outputs": [],
   "source": [
    "%matplotlib inline\n",
    "from plotting.plotting import plot_POCA_points_multi_projection\n",
    "plot_POCA_points_multi_projection(poca.poca_points,\n",
    "                                  poca.mask_in_voi,\n",
    "                                  binning_xyz=voi.n_vox_xyz,\n",
    "                                  filename=\"TEST\")"
   ]
  },
  {
   "cell_type": "markdown",
   "id": "e940b50b-1559-4bcd-b603-6eca552c8a20",
   "metadata": {},
   "source": [
    "### 3D point cloud\n",
    "\n",
    "The `plot_poca_3D_cloud()` method plot the POCA points as a 3D point cloud. It takes as **input**:\n",
    " - `poca:POCA`, an instance of the POCA class\n",
    " - `mask:Optional[np.ndarray]`, an optional mask for event selection, with size (n_event)\n",
    " - `alpha:float`, transparency between 0 and 1.\n",
    " - `color:Optional[np.ndarray]`, an optional array for color. A color will be assigned to each point i based on the value of color[i]."
   ]
  },
  {
   "cell_type": "code",
   "execution_count": null,
   "id": "66ed6f22-b496-4c8a-a78c-390b29310165",
   "metadata": {},
   "outputs": [],
   "source": [
    "%matplotlib qt\n",
    "import math\n",
    "# select events with dtheta >3 deg\n",
    "mask_high_scat = poca.mask_in_voi & (poca.tracks.dtheta*180/math.pi>1)\n",
    "# plot 3d point cloud\n",
    "from plotting.plotting import plot_poca_3D_cloud\n",
    "plot_poca_3D_cloud(poca,mask_high_scat,alpha=.01,color=poca.tracks.dtheta[mask_high_scat])"
   ]
  },
  {
   "cell_type": "code",
   "execution_count": null,
   "id": "e9a050a4-eadf-4436-8caa-91bea5872414",
   "metadata": {},
   "outputs": [],
   "source": [
    "%matplotlib qt\n",
    "# select events with dtheta <1 deg\n",
    "mask_low_scat = poca.mask_in_voi & (poca.tracks.dtheta*180/math.pi<1)\n",
    "# plot 3d point cloud\n",
    "from plotting.plotting import plot_poca_3D_cloud\n",
    "plot_poca_3D_cloud(poca,mask_low_scat,alpha=.01,color=poca.tracks.dtheta[mask_low_scat])"
   ]
  },
  {
   "cell_type": "markdown",
   "id": "d3897a76-6d2e-42a9-bba1-7eb714baccba",
   "metadata": {},
   "source": [
    "# <center> Now Have fun!\n",
    "\n",
    "Now that you know the basic functionnalities of the tracking and poca class, you can play with the dtheta cuts and see how it affects the reconstructed image. \n",
    "\n",
    "### Questions:\n",
    " - What does the density of POCA points tells you about the object's density?\n",
    " - How many materials do you think the statue is made of?\n",
    " - Qualitatively, what should be the optimal value of the dtheta cut? Why?"
   ]
  },
  {
   "cell_type": "code",
   "execution_count": null,
   "id": "2dd3d6ea-a45f-4f7e-b4c7-882cb38ea742",
   "metadata": {},
   "outputs": [],
   "source": []
  }
 ],
 "metadata": {
  "kernelspec": {
   "display_name": "Python 3 (ipykernel)",
   "language": "python",
   "name": "python3"
  },
  "language_info": {
   "codemirror_mode": {
    "name": "ipython",
    "version": 3
   },
   "file_extension": ".py",
   "mimetype": "text/x-python",
   "name": "python",
   "nbconvert_exporter": "python",
   "pygments_lexer": "ipython3",
   "version": "3.8.17"
  }
 },
 "nbformat": 4,
 "nbformat_minor": 5
}
