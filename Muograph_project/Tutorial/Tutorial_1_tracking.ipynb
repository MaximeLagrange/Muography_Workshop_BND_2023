{
 "cells": [
  {
   "cell_type": "code",
   "execution_count": 1,
   "id": "eed2c84d",
   "metadata": {},
   "outputs": [],
   "source": [
    "#Usual suspects\n",
    "import matplotlib.pyplot as plt\n",
    "import torch\n",
    "import numpy as np\n",
    "from typing import Tuple, Optional\n",
    "import sys\n",
    "sys.path.insert(1,'../muograph/')\n",
    "\n",
    "# Function for plotting 3D points\n",
    "def plot_3Dpoints(p:np.ndarray, vector:np.ndarray=None, point:np.ndarray=None, gap:float=100)->None:\n",
    "    \n",
    "    \"\"\"\n",
    "    Plots 3d points on 3 different views: XY, XZ, YZ.\n",
    "    \n",
    "    INPUT:\n",
    "    - p:np.ndarray, the array containing the points coordinnates, with shape (Npoints,3)\n",
    "    \n",
    "    - vector:np.ndarray, the array containing the vector of a fitted line, with shape (3)\n",
    "    \n",
    "    - point:np.ndarray, the array containing a point of a fitted line, with shape (3)\n",
    "    \n",
    "    - gap:float, number used to set the plot lim. Must be of the order of magnitude of the point coordinnates. \n",
    "    \n",
    "    OUTPUT:\n",
    "    - None\n",
    "    \"\"\"\n",
    "    \n",
    "    fig,axs = plt.subplots(ncols=3)\n",
    "\n",
    "    #XY view\n",
    "    axs[0].scatter(p[:,0],p[:,1])\n",
    "    axs[0].set_xlim((min(p[:,0])-gap,max(p[:,0])+gap))\n",
    "    axs[0].set_ylim((min(p[:,1])-gap,max(p[:,1])+gap))\n",
    "\n",
    "    #XZ view\n",
    "    axs[1].scatter(p[:,0],p[:,2])\n",
    "    axs[1].set_xlim((min(p[:,0])-gap,max(p[:,0])+gap))\n",
    "    axs[1].set_ylim((min(p[:,2])-gap,max(p[:,2])+gap))\n",
    "\n",
    "    #YZ view\n",
    "    axs[2].scatter(p[:,1],p[:,2])\n",
    "    axs[2].set_xlim((min(p[:,1])-gap,max(p[:,1])+gap))\n",
    "    axs[2].set_ylim((min(p[:,2])-gap,max(p[:,2])+gap))\n",
    "\n",
    "    #Compute fitted line coordinnates\n",
    "    if((vector is not None)&(point is not None)):\n",
    "        t = np.linspace(-1000,1000,100)\n",
    "        fitted_line = np.zeros((3,100))\n",
    "        for dim in [0,1,2]:\n",
    "            #eq 1\n",
    "            fitted_line[dim] = point[dim] + vector[dim]*t\n",
    "            \n",
    "        #plot fitted line\n",
    "        axs[0].plot(fitted_line[0],fitted_line[1],color='red',label=\"fitted track\")\n",
    "        axs[1].plot(fitted_line[0],fitted_line[2],color='red',label=\"fitted track\")\n",
    "        axs[2].plot(fitted_line[1],fitted_line[2],color='red',label=\"fitted track\")\n",
    "        \n",
    "        #plot point from fitted line\n",
    "        axs[0].scatter(point[0],point[1],color='green')\n",
    "        axs[1].scatter(point[0],point[2],color='green')\n",
    "        axs[2].scatter(point[1],point[2],color='green')\n",
    "        \n",
    "    for ax in axs:\n",
    "        #Show grid\n",
    "        ax.grid(\"ON\")\n",
    "        #Same x and y scale\n",
    "        ax.set_aspect(\"equal\")\n",
    "        # Show legend\n",
    "        if((vector is not None)&(point is not None)):\n",
    "            ax.legend()\n",
    "\n",
    "    #axis legend\n",
    "    axs[0].set_xlabel(\"X\")\n",
    "    axs[0].set_ylabel(\"Y\")\n",
    "    \n",
    "    axs[1].set_xlabel(\"X\")\n",
    "    axs[1].set_ylabel(\"Z\")\n",
    "    \n",
    "    axs[2].set_xlabel(\"Y\")\n",
    "    axs[2].set_ylabel(\"Z\")\n",
    "    \n",
    "    plt.tight_layout()\n",
    "    plt.show()"
   ]
  },
  {
   "cell_type": "markdown",
   "id": "20eaa4a7",
   "metadata": {},
   "source": [
    "# <center>  Tracking tutorial\n",
    "\n",
    "**Tracking** in muon scattering tomography is **straightforward**, since muon tracks are straight tracks.\n",
    "\n",
    "The **linear least squares fitting** technique is the simplest and most commonly applied form of linear regression and provides a solution to the problem of finding the best fitting straight line through a set of points. (https://mathworld.wolfram.com/LeastSquaresFitting.html).\n",
    "\n",
    "**Mathematical expression**:\n",
    "\n",
    "Given a set of points $X = \\left\\{X_0, ..., X_N\\right\\}$ where $X_i = \\left\\{x_i,y_i,z_i\\right\\}$, on has to find the best fitting straight line $L(t) = At + B$ where $A = \\left\\{ a_x,a_y,a_z\\right\\}$ and $B = \\left\\{ b_x,b_y,b_z\\right\\}$.\n",
    "\n",
    "$$L_{x,y,z}(t) = a_{x,y,z} \\times t +  b_{x,y,z}\\:\\:\\:\\:\\:(1)$$\n",
    "\n",
    "\n",
    "**Example**\n",
    "\n",
    "In order to make things easier, one chooses to rely on the scikit-spatial library. The example below shows how to use the `best_fit` method of the `skspatial` `Line` class:\n",
    "\n",
    "1- **Load hits** from a csv file"
   ]
  },
  {
   "cell_type": "code",
   "execution_count": 2,
   "id": "6b0f9d0f",
   "metadata": {},
   "outputs": [
    {
     "name": "stdout",
     "output_type": "stream",
     "text": [
      "Hit on plane 0 for event 116745 has x,y,z = 45.0,-274.699,-55.6 mm\n"
     ]
    }
   ],
   "source": [
    "# Import get_hits_from_csv from utils.py\n",
    "from utils.utils import get_hits_from_csv\n",
    "# Get hits\n",
    "hits = get_hits_from_csv('../data/DataCu.csv')\n",
    "\n",
    "# Choose a random event\n",
    "event = np.random.randint(hits.shape[-1])\n",
    "\n",
    "# Choose a random plane\n",
    "plane = np.random.randint(hits.shape[1])\n",
    "\n",
    "\n",
    "print(r'Hit on plane {} for event {} has x,y,z = {},{},{} mm'.format(plane,event,hits[0,plane,event],hits[1,plane,event],hits[2,plane,event]))"
   ]
  },
  {
   "cell_type": "code",
   "execution_count": 3,
   "id": "7babf7c8-584a-4e51-b236-c610753ba948",
   "metadata": {},
   "outputs": [
    {
     "name": "stdout",
     "output_type": "stream",
     "text": [
      "The first point (a.k.a points[0]) has x,y,z position 45.0,-274.699,-55.6\n"
     ]
    }
   ],
   "source": [
    "# 1\n",
    "points = np.transpose(hits[:,:,event],)\n",
    "print(\"The first point (a.k.a points[0]) has x,y,z position {},{},{}\".format(points[0,0],\n",
    "                                                                             points[0,1],\n",
    "                                                                             points[0,2]))"
   ]
  },
  {
   "cell_type": "markdown",
   "id": "5ed09f36",
   "metadata": {},
   "source": [
    " 2- For the sake of realism, let's add some gaussian **noise** to the $x$ and $y$ hit positions.\n"
   ]
  },
  {
   "cell_type": "code",
   "execution_count": 4,
   "id": "e1c6ac9d",
   "metadata": {},
   "outputs": [],
   "source": [
    "mean,std = 0,50\n",
    "points[:-1] += np.random.normal(loc=mean, scale=std, size=points[:-1].shape)"
   ]
  },
  {
   "cell_type": "markdown",
   "id": "4138feca",
   "metadata": {},
   "source": [
    " 3- Create an **instance** of the `Points` class with our points: \n"
   ]
  },
  {
   "cell_type": "code",
   "execution_count": 5,
   "id": "90184380",
   "metadata": {},
   "outputs": [],
   "source": [
    "from skspatial.objects import Points\n",
    "points = Points(points)"
   ]
  },
  {
   "cell_type": "markdown",
   "id": "bf64951e",
   "metadata": {},
   "source": [
    " 4- **Fit** the points using the `best_fit` method of the `skspatial` `Line` class:"
   ]
  },
  {
   "cell_type": "code",
   "execution_count": 6,
   "id": "c7531a6b",
   "metadata": {},
   "outputs": [],
   "source": [
    "from skspatial.objects import Line\n",
    "line_fit = Line.best_fit(points)"
   ]
  },
  {
   "cell_type": "markdown",
   "id": "af2de1e0",
   "metadata": {},
   "source": [
    " 5- Get the direction **vector** of the fitted line (A in eq. (1)) and the coordinnates of a **point** on the fitted line (B in eq. (1))"
   ]
  },
  {
   "cell_type": "code",
   "execution_count": 7,
   "id": "90feb5bc",
   "metadata": {},
   "outputs": [],
   "source": [
    "vector,point = line_fit.vector.to_array(), line_fit.point.to_array()"
   ]
  },
  {
   "cell_type": "markdown",
   "id": "eaabdd4d",
   "metadata": {},
   "source": [
    "6- **Plot** the points and the fitted tracks using our homemade function"
   ]
  },
  {
   "cell_type": "code",
   "execution_count": 8,
   "id": "f1e3ba06",
   "metadata": {
    "scrolled": true
   },
   "outputs": [
    {
     "data": {
      "image/png": "[encoded data removed]",
      "text/plain": [
       "<Figure size 640x480 with 3 Axes>"
      ]
     },
     "metadata": {},
     "output_type": "display_data"
    }
   ],
   "source": [
    "plot_3Dpoints(p=points,\n",
    "              vector=vector,\n",
    "              point=point)"
   ]
  },
  {
   "attachments": {
    "MST_setup_example.png": {
     "image/png": "[encoded data removed]"
    }
   },
   "cell_type": "markdown",
   "id": "75e9547b",
   "metadata": {},
   "source": [
    "## <center> **Section 1**: Tracking incoming and outgoing muons\n",
    "\n",
    "    \n",
    "### The basics\n",
    "    \n",
    "![MST_setup_example.png](attachment:MST_setup_example.png)\n",
    "\n",
    "Now that we know how to fit a set of points, we can proceed to the **tracking** of **both** the **incoming** and **outgoing muon track**."
   ]
  },
  {
   "cell_type": "markdown",
   "id": "df918c6f",
   "metadata": {},
   "source": [
    "### Exercice\n",
    "\n",
    "\n",
    "**Write a function** called `compute_vectors_points_from_hits()` that takes as **input**:\n",
    " \n",
    " - `hits:np.ndarray`, the hits of all detection planes with (3,n_plane,n_event)\n",
    " \n",
    "and **returns**:\n",
    "\n",
    " - `points:np.ndarray`, the coordinnates of a **point** on the fitted lines, with shape (2,n_plane/2,n_event)\n",
    " - `vectors:np.ndarray`, the direction **vector** of the fitted lines, with shape (2,n_plane/2,n_event)\n",
    "\n",
    "\n",
    "**Incoming** tracks points and vector will be stored in `points[0,:,:]` and `vectors[0,:,:]`, while **outgoing** tracks points and vector will be stored in `points[1,:,:]` and `vectors[1,:,:]`.\n",
    "\n",
    "**Remarks**: \n",
    "\n",
    " - When developping your function, try run the code for a small number of events.\n",
    " - Feel free to use parts of the code used in the tutorial above!"
   ]
  },
  {
   "cell_type": "code",
   "execution_count": 9,
   "id": "4f56ebc2",
   "metadata": {},
   "outputs": [],
   "source": [
    "def compute_vectors_points_from_hits(hits:np.ndarray) -> Tuple[Tuple[np.ndarray]]:\n",
    "\n",
    "    '''\n",
    "     INPUT:\n",
    "     \n",
    "     - `hits:np.ndarray`, the hits of the **upper/lower** detection planes. Must have shape (3,3,n_event)\n",
    "     \n",
    "     OUTPUT:\n",
    "     \n",
    "     - `points:np.ndarray`, the coordinnates of a **point** on the fitted lines, with shape (2,3,n_event)\n",
    "     - `vectors:np.ndarray`, the direction **vector** of the fitted lines (A in eq. (1)), with shape (2,3,n_event)\n",
    "    '''\n",
    "    \n",
    "    vectors,points = np.zeros((2,hits.shape[1],hits.shape[2])), np.zeros((2,hits.shape[1],hits.shape[2]))\n",
    "    \n",
    "    # WRITE YOUR FUNCTION HERE\n",
    "    \n",
    "    return vectors, points\n",
    "\n",
    "\n",
    "def compute_vectors_points_from_hits(hits:np.ndarray,) -> Tuple[np.ndarray]:\n",
    "\n",
    "    '''\n",
    "     INPUT:\n",
    "     \n",
    "     - `hits:np.ndarray`, the hits of the **upper/lower** detection planes. Must have shape (3,n_plane,n_event)\n",
    "     \n",
    "     OUTPUT: (vector,point)\n",
    "     \n",
    "      - `vectors:np.ndarray`, the direction **vector** of the fitted line with shape (2,3,n_event)\n",
    "      - `points:np.ndarray`, the coordinnates of a **point** on the fitted line with shape (2,3,n_event)\n",
    "    '''\n",
    "    \n",
    "    from skspatial.objects import Line, Points\n",
    "    from fastprogress import progress_bar\n",
    "    \n",
    "    vectors,points = np.zeros((2,int(hits.shape[1]/2),hits.shape[2])), np.zeros((2,int(hits.shape[1]/2),hits.shape[2]))\n",
    "    \n",
    "    for ev in progress_bar(range(hits.shape[2])):\n",
    "        for sub_hits, dim in zip([hits[:,:3],hits[:,3:]], [0,1]):\n",
    "            points_to_fit = (np.transpose(sub_hits[:,:,ev]))\n",
    "            line_fit = Line.best_fit(Points(points_to_fit))\n",
    "            vectors[dim,:,ev],points[dim,:,ev] = line_fit.vector.to_array(), line_fit.point.to_array()\n",
    "        \n",
    "    return vectors, points"
   ]
  },
  {
   "cell_type": "code",
   "execution_count": 10,
   "id": "c4c04adc",
   "metadata": {},
   "outputs": [],
   "source": [
    "# Develop your function here\n",
    "hits_up, hits_down = hits[:,:3], hits[:,3:]"
   ]
  },
  {
   "cell_type": "markdown",
   "id": "3df72bfd",
   "metadata": {},
   "source": [
    "### **Test 1**\n",
    "\n",
    "\n",
    "Now that the `compute_vectors_points_from_hits()` function is created, we have to make sure that it outputs the correct vector and point values. Using `hits_test`, run the `compute_vectors_points_from_hits_test()` test."
   ]
  },
  {
   "cell_type": "code",
   "execution_count": 11,
   "id": "479ce758",
   "metadata": {},
   "outputs": [
    {
     "data": {
      "image/png": "[encoded data removed]",
      "text/plain": [
       "<Figure size 640x480 with 3 Axes>"
      ]
     },
     "metadata": {},
     "output_type": "display_data"
    },
    {
     "data": {
      "image/png": "[encoded data removed]",
      "text/plain": [
       "<Figure size 640x480 with 3 Axes>"
      ]
     },
     "metadata": {},
     "output_type": "display_data"
    }
   ],
   "source": [
    "# Points to fit in order to pass the test\n",
    "hits_test = np.array([[[ 0 ,  0 ],\n",
    "                       [ 0 ,  1 ],\n",
    "                       [ 0 ,  2 ],\n",
    "                       [ 0 ,  3 ],\n",
    "                       [ 0 ,  4 ],\n",
    "                       [ 0 ,  5 ]],\n",
    "\n",
    "                      [[ 0 ,   0],\n",
    "                       [ 1 ,   0],\n",
    "                       [ 2 ,   0],\n",
    "                       [ 3 ,   0],\n",
    "                       [ 4 ,   0],\n",
    "                       [ 5 ,   0]],\n",
    "\n",
    "                      [[ 0   ,  0   ],\n",
    "                       [-1   , -1   ],\n",
    "                       [-2   , -2   ],\n",
    "                       [-3   , -3   ],\n",
    "                       [-4   , -4   ],\n",
    "                       [-5   , -5   ]]])\n",
    "\n",
    "# Plot hits test\n",
    "plot_3Dpoints(p=np.transpose(hits_test[:,:,0]),gap=.5)\n",
    "plot_3Dpoints(p=np.transpose(hits_test[:,:,1]),gap=.5)"
   ]
  },
  {
   "cell_type": "code",
   "execution_count": 12,
   "id": "e49401da",
   "metadata": {},
   "outputs": [],
   "source": [
    "def compute_vectors_points_from_hits_test(hits_test:np.ndarray) -> None:\n",
    "    \n",
    "    output = compute_vectors_points_from_hits(hits_test)\n",
    "    vectors, points = output[0], output[1]\n",
    "    print(\"Incoming track fit for event 0\")\n",
    "    plot_3Dpoints(p = np.transpose(hits_test[:,:3,0]),\n",
    "                  vector = vectors[0,:,0],\n",
    "                  point = vectors[0,:,0],\n",
    "                  gap = 1.)\n",
    "    \n",
    "    print(\"Outgoing track fit for event 0\")\n",
    "    plot_3Dpoints(p = np.transpose(hits_test[:,3:,0]),\n",
    "                  vector = vectors[1,:,0],\n",
    "                  point = vectors[1,:,0],\n",
    "                  gap = 1.)\n",
    "    \n",
    "    # Variable type test\n",
    "    assert type(output) == tuple\n",
    "    assert type(vectors) == np.ndarray\n",
    "    assert type(points) == np.ndarray\n",
    "\n",
    "    # Variable value test\n",
    "    assert np.sqrt((vectors[0,:,0]**2).sum()) == 1\n",
    "    assert vectors[0,0,0] == 0\n",
    "    print(\"TEST PASSED! :)\")"
   ]
  },
  {
   "cell_type": "markdown",
   "id": "77eeab5f",
   "metadata": {},
   "source": [
    "Make sure you pass the test!"
   ]
  },
  {
   "cell_type": "code",
   "execution_count": 13,
   "id": "7257bc19",
   "metadata": {},
   "outputs": [
    {
     "data": {
      "text/html": [
       "\n",
       "<style>\n",
       "    /* Turns off some styling */\n",
       "    progress {\n",
       "        /* gets rid of default border in Firefox and Opera. */\n",
       "        border: none;\n",
       "        /* Needs to be in here for Safari polyfill so background images work as expected. */\n",
       "        background-size: auto;\n",
       "    }\n",
       "    progress:not([value]), progress:not([value])::-webkit-progress-bar {\n",
       "        background: repeating-linear-gradient(45deg, #7e7e7e, #7e7e7e 10px, #5c5c5c 10px, #5c5c5c 20px);\n",
       "    }\n",
       "    .progress-bar-interrupted, .progress-bar-interrupted::-webkit-progress-bar {\n",
       "        background: #F44336;\n",
       "    }\n",
       "</style>\n"
      ],
      "text/plain": [
       "<IPython.core.display.HTML object>"
      ]
     },
     "metadata": {},
     "output_type": "display_data"
    },
    {
     "data": {
      "text/html": [
       "\n",
       "    <div>\n",
       "      <progress value='2' class='' max='2' style='width:300px; height:20px; vertical-align: middle;'></progress>\n",
       "      100.00% [2/2 00:00&lt;00:00]\n",
       "    </div>\n",
       "    "
      ],
      "text/plain": [
       "<IPython.core.display.HTML object>"
      ]
     },
     "metadata": {},
     "output_type": "display_data"
    },
    {
     "name": "stdout",
     "output_type": "stream",
     "text": [
      "Incoming track fit for event 0\n"
     ]
    },
    {
     "data": {
      "image/png": "[encoded data removed]",
      "text/plain": [
       "<Figure size 640x480 with 3 Axes>"
      ]
     },
     "metadata": {},
     "output_type": "display_data"
    },
    {
     "name": "stdout",
     "output_type": "stream",
     "text": [
      "Outgoing track fit for event 0\n"
     ]
    },
    {
     "data": {
      "image/png": "[encoded data removed]",
      "text/plain": [
       "<Figure size 640x480 with 3 Axes>"
      ]
     },
     "metadata": {},
     "output_type": "display_data"
    },
    {
     "name": "stdout",
     "output_type": "stream",
     "text": [
      "TEST PASSED! :)\n"
     ]
    }
   ],
   "source": [
    "# Run test\n",
    "compute_vectors_points_from_hits_test(hits_test)"
   ]
  },
  {
   "cell_type": "markdown",
   "id": "01f32b06-63bc-4c68-b879-6954e614948e",
   "metadata": {},
   "source": [
    "You can now use our `compute_points_vectors_from_hits_test()` function to compute the fitted vectors and points:\n",
    "\n"
   ]
  },
  {
   "cell_type": "code",
   "execution_count": 14,
   "id": "d4e65142-83fe-4813-b608-ab8de736dcdb",
   "metadata": {},
   "outputs": [
    {
     "data": {
      "text/html": [
       "\n",
       "<style>\n",
       "    /* Turns off some styling */\n",
       "    progress {\n",
       "        /* gets rid of default border in Firefox and Opera. */\n",
       "        border: none;\n",
       "        /* Needs to be in here for Safari polyfill so background images work as expected. */\n",
       "        background-size: auto;\n",
       "    }\n",
       "    progress:not([value]), progress:not([value])::-webkit-progress-bar {\n",
       "        background: repeating-linear-gradient(45deg, #7e7e7e, #7e7e7e 10px, #5c5c5c 10px, #5c5c5c 20px);\n",
       "    }\n",
       "    .progress-bar-interrupted, .progress-bar-interrupted::-webkit-progress-bar {\n",
       "        background: #F44336;\n",
       "    }\n",
       "</style>\n"
      ],
      "text/plain": [
       "<IPython.core.display.HTML object>"
      ]
     },
     "metadata": {},
     "output_type": "display_data"
    },
    {
     "data": {
      "text/html": [
       "\n",
       "    <div>\n",
       "      <progress value='10000' class='' max='10000' style='width:300px; height:20px; vertical-align: middle;'></progress>\n",
       "      100.00% [10000/10000 00:03&lt;00:00]\n",
       "    </div>\n",
       "    "
      ],
      "text/plain": [
       "<IPython.core.display.HTML object>"
      ]
     },
     "metadata": {},
     "output_type": "display_data"
    }
   ],
   "source": [
    "vectors, points = compute_vectors_points_from_hits(hits[:,:,:10000])"
   ]
  },
  {
   "cell_type": "markdown",
   "id": "5c9cc781",
   "metadata": {},
   "source": [
    "## BONUS: Who has the most efficient code?\n",
    "\n",
    "\n",
    "Using the `skspatial` library, `compute_point_vector_from_hits()` computation time is about 3.8s for 10k events (on Intel i5 CPU). Using the method of your choice, try to find a more efficent method!"
   ]
  },
  {
   "cell_type": "code",
   "execution_count": 15,
   "id": "c7aaf3c2",
   "metadata": {},
   "outputs": [
    {
     "data": {
      "text/html": [
       "\n",
       "<style>\n",
       "    /* Turns off some styling */\n",
       "    progress {\n",
       "        /* gets rid of default border in Firefox and Opera. */\n",
       "        border: none;\n",
       "        /* Needs to be in here for Safari polyfill so background images work as expected. */\n",
       "        background-size: auto;\n",
       "    }\n",
       "    progress:not([value]), progress:not([value])::-webkit-progress-bar {\n",
       "        background: repeating-linear-gradient(45deg, #7e7e7e, #7e7e7e 10px, #5c5c5c 10px, #5c5c5c 20px);\n",
       "    }\n",
       "    .progress-bar-interrupted, .progress-bar-interrupted::-webkit-progress-bar {\n",
       "        background: #F44336;\n",
       "    }\n",
       "</style>\n"
      ],
      "text/plain": [
       "<IPython.core.display.HTML object>"
      ]
     },
     "metadata": {},
     "output_type": "display_data"
    },
    {
     "data": {
      "text/html": [
       "\n",
       "    <div>\n",
       "      <progress value='10000' class='' max='10000' style='width:300px; height:20px; vertical-align: middle;'></progress>\n",
       "      100.00% [10000/10000 00:03&lt;00:00]\n",
       "    </div>\n",
       "    "
      ],
      "text/plain": [
       "<IPython.core.display.HTML object>"
      ]
     },
     "metadata": {},
     "output_type": "display_data"
    },
    {
     "name": "stdout",
     "output_type": "stream",
     "text": [
      "Computing time = 3.64 s\n"
     ]
    }
   ],
   "source": [
    "import time\n",
    "start = time.time()\n",
    "\n",
    "# Put your function here\n",
    "compute_vectors_points_from_hits(hits[:,:,:10000])\n",
    "\n",
    "print(\"Computing time = {:.2f} s\".format(time.time()-start))"
   ]
  },
  {
   "attachments": {
    "spherical_coordinates.png": {
     "image/png": "[encoded data removed]"
    }
   },
   "cell_type": "markdown",
   "id": "d0e30721",
   "metadata": {},
   "source": [
    "# <center> **Exercice 2**: Computing zenith and azimuthal angles\n",
    "\n",
    "    \n",
    "### The basics\n",
    "\n",
    "Now that we are able to **track** our **muons**, we can compute the **variables relevant** to our **image reconstruction analysis**.\n",
    "\n",
    "<div>\n",
    "<img src=\"attachment:spherical_coordinates.png\" width=\"350\"/>\n",
    "</div>\n",
    "\n",
    "\n",
    "- $\\theta$: the zenith angle, defined as the angle between our track and the vertical $z$ axis. Given a certain direction $v = \\left\\{ x, y, z \\right\\}$, it is computed as:\n",
    "\n",
    "$$\\theta =  \\text{cos}^{-1}\\left( \\frac{z}{\\sqrt{x^2 + y^2 + z^2}}\\right)$$\n",
    "\n",
    "\n",
    "- $\\phi$: The azimuthal angle, defined as the angle between the projection of our track on the horizontal $xy$ plane and the $x$ axis.\n",
    "\n",
    "$$ \\phi = \\text{sgn}(y) \\: \\text{cos}^{-1}\\left( \\frac{x}{\\sqrt{x^2 + y^2}}\\right)$$"
   ]
  },
  {
   "cell_type": "markdown",
   "id": "df4ed0e7",
   "metadata": {},
   "source": [
    "\n",
    "### Exercice\n",
    "\n",
    "**Create a function** called `compute_theta_phi()` that takes as **input**:\n",
    "\n",
    "- `vector:np.ndarray`,  an array containing the tracks direction, with shape (3,n_event)\n",
    "\n",
    "and **returns**:\n",
    "\n",
    "- `theta:np.ndarray`, array containing the tracks zenith angle, with shape (n_event)\n",
    "\n",
    "- `phi:np.ndarray`, array containing the tracks azymuthal angle, with shape (n_event)\n",
    "\n",
    "**Remark**: \n",
    "\n",
    " - Muon are propagating in the negative $z$ direction. You should take this into account when computing $\\theta$!\n",
    " \n",
    " - When $\\theta = 0$, $\\phi$ is not defined. Instead, assign $\\phi = 0$. You can use the `np.where()` function. (https://www.digitalocean.com/community/tutorials/python-numpy-where) "
   ]
  },
  {
   "cell_type": "code",
   "execution_count": 16,
   "id": "0887eda3",
   "metadata": {},
   "outputs": [],
   "source": [
    "def compute_theta_phi(vectors:np.ndarray) -> Tuple[np.ndarray]:\n",
    "    \n",
    "    '''\n",
    "    INPUT:\n",
    "     - vector:np.ndarray, array containing the tracks direction, with shape (3,n_event)\n",
    "     \n",
    "    OUTPUT:\n",
    "    - theta:np.ndarray, array containing the tracks zenith angle, with shape (n_event)\n",
    "    - phi:np.ndarray, array containing the tracks azymuthal angle, with shape (n_event)\n",
    "\n",
    "    '''\n",
    "    theta, phi = None, None\n",
    "    \n",
    "    # Fill here\n",
    "    \n",
    "    return theta, phi\n",
    "\n",
    "def compute_theta_phi(vectors:np.ndarray) -> Tuple[np.ndarray]:\n",
    "    \n",
    "    '''\n",
    "    INPUT:\n",
    "     - vector:np.ndarray, array containing the tracks direction, with shape (3,n_event)\n",
    "     \n",
    "    OUTPUT:\n",
    "    - theta:np.ndarray, array containing the tracks zenith angle, with shape (n_event)\n",
    "    - phi:np.ndarray, array containing the tracks azymuthal angle, with shape (n_event)\n",
    "\n",
    "    '''\n",
    "    \n",
    "    theta = np.arccos(-vectors[2]/(np.sqrt(vectors[0]**2+vectors[1]**2+vectors[2]**2)))\n",
    "    phi = np.sign(vectors[1])*np.arccos(vectors[0]/np.sqrt(vectors[0]**2+vectors[1]**2))\n",
    "    phi = np.where(theta==0,0.,phi)\n",
    "    \n",
    "    return theta, phi"
   ]
  },
  {
   "cell_type": "code",
   "execution_count": 17,
   "id": "618453e7",
   "metadata": {},
   "outputs": [],
   "source": [
    "#Develop your function here!\n",
    "\n",
    "vectors_test = np.array([[0,1,-1,0,0,1,1,-1],[0,0,0,1,-1,0,1,-1],[-1,-1,-1,-1,-1,-1,-1,-1]])"
   ]
  },
  {
   "cell_type": "markdown",
   "id": "90e36ae6",
   "metadata": {},
   "source": [
    "## <center> **Test 2**\n",
    "\n",
    "\n",
    "Now that the `compute_theta_phi()` function is created, we have to make sure that it outputs the correct $\\theta$ and $\\phi$ values. \n",
    "\n",
    "Using `vectors_test`, run the `compute_theta_phi_test()` test."
   ]
  },
  {
   "cell_type": "code",
   "execution_count": 18,
   "id": "edddaab0",
   "metadata": {},
   "outputs": [],
   "source": [
    "def compute_theta_phi_test(vectors_test:np.ndarray) -> None:\n",
    "    \n",
    "    output = compute_theta_phi(vectors=vectors_test)\n",
    "    theta, phi = output[0], output[1]\n",
    "    \n",
    "    # Check variable type\n",
    "    assert type(output) == tuple\n",
    "    assert type(theta) == np.ndarray\n",
    "    assert type(phi) == np.ndarray\n",
    "    \n",
    "    # Check values    \n",
    "    assert (theta[1:6].round(3) == 0.785).sum() == 5, 'ERROR in theta computation!'\n",
    "    assert (phi[:3].round(3) == 0.).sum() == 3, 'ERROR in phi computation!'\n",
    "    assert np.sign(phi[4]) == -1.0, 'ERROR in phi sign!'\n",
    "    assert ((np.sign(theta)==-1)==False).sum() == theta.shape, \"ERROR in theta sign!\"\n",
    "    print(\"TEST PASSED! :)\")\n"
   ]
  },
  {
   "cell_type": "code",
   "execution_count": 19,
   "id": "acb1c1b0",
   "metadata": {},
   "outputs": [
    {
     "name": "stdout",
     "output_type": "stream",
     "text": [
      "TEST PASSED! :)\n"
     ]
    },
    {
     "name": "stderr",
     "output_type": "stream",
     "text": [
      "/tmp/ipykernel_7871/3100489620.py:31: RuntimeWarning: invalid value encountered in divide\n",
      "  phi = np.sign(vectors[1])*np.arccos(vectors[0]/np.sqrt(vectors[0]**2+vectors[1]**2))\n"
     ]
    }
   ],
   "source": [
    "# Run the test here\n",
    "compute_theta_phi_test(vectors_test)"
   ]
  },
  {
   "cell_type": "markdown",
   "id": "2b40295e-5cdd-4111-a3eb-0b7f70bb4932",
   "metadata": {},
   "source": [
    "You cam now use our `compute_theta_phi()` function to compute $\\theta$ and $\\phi$:\n",
    "\n"
   ]
  },
  {
   "cell_type": "code",
   "execution_count": 20,
   "id": "3e2d22cf-97b5-4ea5-959d-e2ec4e1b261f",
   "metadata": {},
   "outputs": [],
   "source": [
    "theta_in, phi_in = compute_theta_phi(vectors[0])\n",
    "theta_out, phi_out = compute_theta_phi(vectors[1])"
   ]
  },
  {
   "cell_type": "markdown",
   "id": "3fb9fe05",
   "metadata": {},
   "source": [
    "# <center> **Exercice 3**: Computing scattering angles\n",
    "\n",
    "We can now compute muons **scattering angle**. It is defined as the **angle between** the **incoming and outgoing** muon **direction**. Given $v_{in}$ and $v_{out}$ respectively incoming and outgoing direction vectors, the scattering angle $\\Delta\\theta$ can be computed as:\n",
    "    \n",
    "$$ \\Delta\\theta = \\text{cos}^{-1}\\left(\\frac{\\vec{v_{in}} \\cdot \\vec{v_{out}}}{|v_{in}||v_{out}|}\\right)$$\n",
    "    \n",
    "In our case $\\vec{v_{in}}$ is `vectors[0]` and $\\vec{v_{out}}$ is `vectors[1]`."
   ]
  },
  {
   "cell_type": "markdown",
   "id": "a6a71f0e",
   "metadata": {},
   "source": [
    "### Exercice\n",
    "\n",
    "**Create a function** called `compute_dtheta_from_vectors()` which takes as **input**:\n",
    "    \n",
    " - `vectors_in:np.ndarray`, 3D vectors with shape (3,n_event)\n",
    " - `vectors_out:np.ndarray`, 3D vectors with shape (3,n_event)\n",
    "    \n",
    "and **returns**:\n",
    "\n",
    " - `dtheta:np.ndarray`, the scattering angle between vectors_in and vectors_out, with shape (n_event)\n",
    "    \n",
    "**Remarks**:\n",
    "\n",
    " - We might want to create a `dot_product` and `norm` function.\n",
    " - Because of floating precision, we might face cases where $\\frac{\\vec{v_{in}} \\cdot \\vec{v_{out}}}{|v_{in}||v_{out}|} = 1.0000000000002$ if the scattering angle is close to zero. Computing $\\text{cos}^{-1}(1.0000000000002)$ will return a `nan` value (a.k.a Not A Number). In order to solve this problem, we might need to use the `np.round()` function (https://numpy.org/doc/1.13/reference/generated/numpy.round_.html)."
   ]
  },
  {
   "cell_type": "code",
   "execution_count": 21,
   "id": "6838cbc9",
   "metadata": {},
   "outputs": [],
   "source": [
    "def dot_prod(v1:np.ndarray, v2:np.ndarray) -> np.ndarray:\n",
    "    \n",
    "    '''\n",
    "    Returns the dot product of 2 vectors or 2 array of vectors.\n",
    "\n",
    "    INPUT:\n",
    "     - v1:np.ndarray, a ND vector with shape (N,n_event) or (3)\n",
    "     - v2:np.ndarray, a ND vector with shape (N,n_event) or (3)\n",
    "     \n",
    "     OUTPUT:\n",
    "      - dot_prod:np.ndarray, the dot product of v1 and v2, with same shape as v1, v2\n",
    "    '''\n",
    "    \n",
    "    return np.sum(v1*v2,axis=0).round(10)\n",
    "\n",
    "\n",
    "\n",
    "def norm(v:np.ndarray) -> np.ndarray:\n",
    "    \n",
    "    '''\n",
    "    Returns the norm of a ND vector or array of vectors.\n",
    "    \n",
    "    INPUT:\n",
    "     - v:np.ndarray, a ND vector with shape (N,n_event) or (N)\n",
    "     \n",
    "     OUTPUT:\n",
    "      - dot_prod:np.ndarray, the norm of v, with shape (n_event) or (1)\n",
    "    '''\n",
    "    \n",
    "    return np.sqrt(np.sum(v**2,axis=0)).round(10)\n",
    "\n",
    "\n",
    "\n",
    "def compute_dtheta_from_vectors(vectors_in:np.ndarray, vectors_out:np.ndarray) -> np.ndarray:\n",
    "    \n",
    "    '''\n",
    "    Returns the angles between 2 collections of 3D vectors.\n",
    "    \n",
    "     INPUT:\n",
    "     - vectors_in:np.ndarray, 3D vectors with shape (3,n_event) or (3)\n",
    "     - vectors_out:np.ndarray, 3D vectors with shape (3,n_event) or (3)\n",
    "\n",
    "     \n",
    "     OUTPUT:\n",
    "      - dtheta:np.ndarray, the scattering angle between vectors_in and vectors_out, with shape (n_event) or (1)\n",
    "    '''\n",
    "    \n",
    "    return np.arccos(dot_prod(vectors[0],vectors[1]) / (norm(vectors[0])*norm(vectors[1])))"
   ]
  },
  {
   "cell_type": "markdown",
   "id": "53317726",
   "metadata": {},
   "source": [
    "You can use the cell below to test your function."
   ]
  },
  {
   "cell_type": "code",
   "execution_count": 23,
   "id": "0280be7b",
   "metadata": {},
   "outputs": [
    {
     "data": {
      "text/html": [
       "\n",
       "<style>\n",
       "    /* Turns off some styling */\n",
       "    progress {\n",
       "        /* gets rid of default border in Firefox and Opera. */\n",
       "        border: none;\n",
       "        /* Needs to be in here for Safari polyfill so background images work as expected. */\n",
       "        background-size: auto;\n",
       "    }\n",
       "    progress:not([value]), progress:not([value])::-webkit-progress-bar {\n",
       "        background: repeating-linear-gradient(45deg, #7e7e7e, #7e7e7e 10px, #5c5c5c 10px, #5c5c5c 20px);\n",
       "    }\n",
       "    .progress-bar-interrupted, .progress-bar-interrupted::-webkit-progress-bar {\n",
       "        background: #F44336;\n",
       "    }\n",
       "</style>\n"
      ],
      "text/plain": [
       "<IPython.core.display.HTML object>"
      ]
     },
     "metadata": {},
     "output_type": "display_data"
    },
    {
     "data": {
      "text/html": [
       "\n",
       "    <div>\n",
       "      <progress value='2' class='' max='2' style='width:300px; height:20px; vertical-align: middle;'></progress>\n",
       "      100.00% [2/2 00:00&lt;00:00]\n",
       "    </div>\n",
       "    "
      ],
      "text/plain": [
       "<IPython.core.display.HTML object>"
      ]
     },
     "metadata": {},
     "output_type": "display_data"
    },
    {
     "data": {
      "image/png": "[encoded data removed]",
      "text/plain": [
       "<Figure size 640x480 with 3 Axes>"
      ]
     },
     "metadata": {},
     "output_type": "display_data"
    },
    {
     "data": {
      "image/png": "[encoded data removed]",
      "text/plain": [
       "<Figure size 640x480 with 3 Axes>"
      ]
     },
     "metadata": {},
     "output_type": "display_data"
    },
    {
     "name": "stdout",
     "output_type": "stream",
     "text": [
      "Scattering angle = 109.47 deg\n"
     ]
    }
   ],
   "source": [
    "# Develop your function here!\n",
    "\n",
    "# Create FAKE hits\n",
    "hits_scattering_test = np.array([[[ 0 , 2 ],\n",
    "                                   [ 0 , 1],\n",
    "                                   [ 0 , 0],\n",
    "                                   [ 0 , 1],\n",
    "                                   [ 0 , 2],\n",
    "                                   [ 0 , 3]],\n",
    "\n",
    "                                  [[ -3, 3],\n",
    "                                   [ -2, 2],\n",
    "                                   [ -1, 1],\n",
    "                                   [ 0,  0],\n",
    "                                   [-1,  1],\n",
    "                                   [-2,  2]],\n",
    "\n",
    "                                  [[ 0,  0],\n",
    "                                   [-1, -1],\n",
    "                                   [-2, -2],\n",
    "                                   [-3, -6],\n",
    "                                   [-4, -7],\n",
    "                                   [-5, -8]]])\n",
    "\n",
    "# Fit, and compute tracks direction\n",
    "vectors, points = compute_vectors_points_from_hits(hits_scattering_test)\n",
    "\n",
    "# Plot fake hits and fitted tracks\n",
    "event = 1 #1\n",
    "plot_3Dpoints(np.transpose(hits_scattering_test[:,:,event]),\n",
    "              vector=vectors[0,:,event],\n",
    "              point = points[0,:,event],\n",
    "              gap=.5)\n",
    "\n",
    "plot_3Dpoints(np.transpose(hits_scattering_test[:,:,event]),\n",
    "              vector=vectors[1,:,event],\n",
    "              point = points[1,:,event],\n",
    "              gap=.5)\n",
    "\n",
    "# Compute dtheta based on incoming and outgoing vectors\n",
    "dtheta = compute_dtheta_from_vectors(vectors_in=vectors[0], vectors_out=vectors[1])\n",
    "\n",
    "import math\n",
    "print(\"Scattering angle = {:.2f} deg\".format(dtheta[event]*180/math.pi))"
   ]
  },
  {
   "cell_type": "markdown",
   "id": "336d6bc8",
   "metadata": {},
   "source": [
    "## <center> Test 3\n",
    "    \n",
    "Now that the `compute_dtheta_from_vectors()` function is created, we have to make sure that it outputs the correct $d\\theta$ values. \n",
    "\n",
    "Using `hits_scattering_test`, run the `compute_dtheta_from_vectors_test()` test and make sure it passes."
   ]
  },
  {
   "cell_type": "code",
   "execution_count": 24,
   "id": "4ca9447a",
   "metadata": {},
   "outputs": [
    {
     "data": {
      "text/html": [
       "\n",
       "<style>\n",
       "    /* Turns off some styling */\n",
       "    progress {\n",
       "        /* gets rid of default border in Firefox and Opera. */\n",
       "        border: none;\n",
       "        /* Needs to be in here for Safari polyfill so background images work as expected. */\n",
       "        background-size: auto;\n",
       "    }\n",
       "    progress:not([value]), progress:not([value])::-webkit-progress-bar {\n",
       "        background: repeating-linear-gradient(45deg, #7e7e7e, #7e7e7e 10px, #5c5c5c 10px, #5c5c5c 20px);\n",
       "    }\n",
       "    .progress-bar-interrupted, .progress-bar-interrupted::-webkit-progress-bar {\n",
       "        background: #F44336;\n",
       "    }\n",
       "</style>\n"
      ],
      "text/plain": [
       "<IPython.core.display.HTML object>"
      ]
     },
     "metadata": {},
     "output_type": "display_data"
    },
    {
     "data": {
      "text/html": [
       "\n",
       "    <div>\n",
       "      <progress value='2' class='' max='2' style='width:300px; height:20px; vertical-align: middle;'></progress>\n",
       "      100.00% [2/2 00:00&lt;00:00]\n",
       "    </div>\n",
       "    "
      ],
      "text/plain": [
       "<IPython.core.display.HTML object>"
      ]
     },
     "metadata": {},
     "output_type": "display_data"
    },
    {
     "data": {
      "text/html": [
       "\n",
       "<style>\n",
       "    /* Turns off some styling */\n",
       "    progress {\n",
       "        /* gets rid of default border in Firefox and Opera. */\n",
       "        border: none;\n",
       "        /* Needs to be in here for Safari polyfill so background images work as expected. */\n",
       "        background-size: auto;\n",
       "    }\n",
       "    progress:not([value]), progress:not([value])::-webkit-progress-bar {\n",
       "        background: repeating-linear-gradient(45deg, #7e7e7e, #7e7e7e 10px, #5c5c5c 10px, #5c5c5c 20px);\n",
       "    }\n",
       "    .progress-bar-interrupted, .progress-bar-interrupted::-webkit-progress-bar {\n",
       "        background: #F44336;\n",
       "    }\n",
       "</style>\n"
      ],
      "text/plain": [
       "<IPython.core.display.HTML object>"
      ]
     },
     "metadata": {},
     "output_type": "display_data"
    },
    {
     "data": {
      "text/html": [
       "\n",
       "    <div>\n",
       "      <progress value='10000' class='' max='10000' style='width:300px; height:20px; vertical-align: middle;'></progress>\n",
       "      100.00% [10000/10000 00:03&lt;00:00]\n",
       "    </div>\n",
       "    "
      ],
      "text/plain": [
       "<IPython.core.display.HTML object>"
      ]
     },
     "metadata": {},
     "output_type": "display_data"
    },
    {
     "name": "stdout",
     "output_type": "stream",
     "text": [
      "TEST PASSED! :)\n"
     ]
    }
   ],
   "source": [
    "def compute_dtheta_from_vectors_test(test_hits:np.ndarray) -> None:\n",
    "    \n",
    "    vectors, points = compute_vectors_points_from_hits(test_hits)\n",
    "    dtheta = compute_dtheta_from_vectors(vectors_in=vectors[0], vectors_out=vectors[1])\n",
    "\n",
    "    # check varaible type and shape\n",
    "    assert type(dtheta) == np.ndarray\n",
    "    assert dtheta.shape == (2,)\n",
    "    \n",
    "    # check values\n",
    "    assert dtheta[0].round(4) == np.round(math.pi/2,4), \"ERROR in dtheta computation!\"\n",
    "    assert dtheta[1].round(4) == 1.9106, \"ERROR in dtheta computation!\"\n",
    "        \n",
    "    # Import get_hits_from_csv from utils.py\n",
    "    from utils.utils import get_hits_from_csv\n",
    "    hits = get_hits_from_csv('../data/DataCu.csv')\n",
    "    \n",
    "    vectors, points = compute_vectors_points_from_hits(hits[:,:,:10000])\n",
    "    dtheta = compute_dtheta_from_vectors(vectors_in=vectors[0], vectors_out=vectors[1])\n",
    "    assert np.isnan(dtheta).sum()==0, \"NaN ERROR!\"\n",
    "    print(\"TEST PASSED! :)\")\n",
    "    \n",
    "compute_dtheta_from_vectors_test(hits_scattering_test)"
   ]
  },
  {
   "cell_type": "markdown",
   "id": "546f69c6-669e-458c-9c9c-38a995bbb323",
   "metadata": {},
   "source": [
    "You cam now use our `compute_theta_phi()` function to compute $\\Delta\\theta$"
   ]
  },
  {
   "cell_type": "code",
   "execution_count": null,
   "id": "8b50e848-fc03-4b9e-a31c-81a4274e93b5",
   "metadata": {},
   "outputs": [],
   "source": [
    "dtheta = compute_dtheta_from_vectors(vectors_in=vectors[0], vectors_out=vectors[1])"
   ]
  },
  {
   "cell_type": "markdown",
   "id": "fc82be8f",
   "metadata": {},
   "source": [
    "# <center> **Exercice 4**: Creating a tracking class\n",
    "    \n",
    "    \n",
    "### *Why using object-oriented programming*?\n",
    "\n",
    "    \n",
    "**Object-oriented programming** (OOP) is a computer programming model that **organizes software** design around **objects**, rather than functions and logic.\n",
    "    \n",
    "The organization of an object-oriented program also makes the method beneficial to **collaborative development**, where **projects** are **divided into groups**. Additional **benefits** of OOP include **code reusability** and **efficiency**.\n",
    "    \n",
    "Some references for beginers:\n",
    "    \n",
    " - Short example https://www.youtube.com/watch?v=ZDa-Z5JzLYM \n",
    " - Full course https://www.youtube.com/watch?v=Ej_02ICOIgs\n",
    "    \n",
    "\n",
    "### *What is the structure of object-oriented programming*?\n",
    "\n",
    "\n",
    "### **Classes**\n",
    "    \n",
    "**Classes** are data types that act as the **blueprint** for individual objects, attributes and methods. In our case, we want to create a **tracking class** which will **encapsulate** all the **relevant attributes** as well as the **functions** required for their computation.\n",
    "\n",
    "    \n",
    "### **Objects**\n",
    "\n",
    "**Objects** are instances of a class created with specifically defined data.\n",
    "\n",
    "### **Methods**\n",
    "    \n",
    "**Methods** are functions that are **defined inside a class** that describe the behaviors of an object. Each method contained in class definitions starts with a reference to an instance object (`self`). In our case, we want to have the following methods:\n",
    "    \n",
    " - `compute_points_vectors_from_hits()`\n",
    " - `compute_theta_phi()`\n",
    " - `compute_dtheta_from_vectors()`\n",
    "\n",
    "### **Attributes**\n",
    " \n",
    "**Attributes** are defined in the class template and represent the **state of an object**. Objects will have data stored in the attributes field. Class attributes belong to the class itself. In our case we want the following attributes:\n",
    "    \n",
    " - $\\theta_{in,out}$\n",
    " - $\\phi_{in,out}$\n",
    " - $\\Delta\\theta$\n",
    " - number of event\n",
    " - number of detection planes\n",
    "\n",
    "    \n",
    "### Exercice\n",
    "\n",
    "If you are confortable with OOP programming, you can include the functions you already created in the Tracking class below, and try to make it work.\n",
    "    \n",
    "If you are a beginner, don't worry you can skip this part an go directly to the next section.\n",
    "\n"
   ]
  },
  {
   "cell_type": "code",
   "execution_count": null,
   "id": "b5e99249",
   "metadata": {},
   "outputs": [],
   "source": [
    "#Usual suspects\n",
    "import numpy as np\n",
    "from typing import Tuple, Optional\n",
    "import math\n",
    "\n",
    "class Tracking():\n",
    "    \n",
    "    '''\n",
    "    Class for muon tracking in the context of an MST experiment.\n",
    "    \n",
    "    Assumptions:\n",
    "    \n",
    "     - Perfect detector alignment\n",
    "    '''\n",
    "\n",
    "    def __init__(self, hits:np.ndarray, E:Optional[np.ndarray]=None):\n",
    "        \n",
    "        self.hits = hits\n",
    "        self.n_event = hits.shape[-1]\n",
    "        self.n_plane = hits.shape[1]\n",
    "        \n",
    "        self.E = None\n",
    "        \n",
    "        # Tracking\n",
    "        self.vectors, self.points = self.compute_points_vectors_from_hits()\n",
    "        \n",
    "        # Zenith and azymuthal angles\n",
    "        self.theta_in, self.phi_in = self.compute_theta_phi(vectors=self.vectors[0])\n",
    "        self.theta_out, self.phi_out = self.compute_theta_phi(vectors=self.vectors[1])\n",
    "        \n",
    "        # Scattering angles\n",
    "        self.dtheta = self.compute_dtheta_from_vectors(vectors_in=self.vectors[0],\n",
    "                                                       vectors_out=self.vectors[1])\n",
    "      \n",
    "        \n",
    "    def compute_points_vectors_from_hits(self) -> Tuple[np.ndarray]:\n",
    "\n",
    "        '''\n",
    "         INPUT:\n",
    "\n",
    "         - `hits:np.ndarray`, the hits of the **upper/lower** detection planes. Must have shape (3,n_plane,n_event)\n",
    "\n",
    "         OUTPUT:\n",
    "\n",
    "          - `point:np.ndarray`, the coordinnates of a **point** on the fitted line with shape (2,3,n_event)\n",
    "          - `vector:np.ndarray`, the direction **vector** of the fitted line (A in eq. (1)) with shape (2,3,n_event)\n",
    "        '''\n",
    "\n",
    "        from skspatial.objects import Line, Points\n",
    "        from fastprogress import progress_bar\n",
    "\n",
    "        vectors = np.zeros((2,int(self.n_plane/2),self.n_event))\n",
    "        points = np.zeros((2,int(self.n_plane/2),self.n_event))\n",
    "        \n",
    "        # Fill here\n",
    "        \n",
    "        return vectors, points\n",
    "\n",
    "        \n",
    "    def compute_theta_phi(self, vectors:np.ndarray) -> Tuple[np.ndarray]:\n",
    "    \n",
    "        '''\n",
    "        INPUT:\n",
    "         - vector:np.ndarray, array containing the tracks direction, with shape (3,n_event)\n",
    "\n",
    "        OUTPUT:\n",
    "        - theta:np.ndarray, array containing the tracks zenith angle, with shape (n_event)\n",
    "        - phi:np.ndarray, array containing the tracks azymuthal angle, with shape (n_event)\n",
    "\n",
    "        '''\n",
    "\n",
    "        # Fill here\n",
    "\n",
    "        return theta, phi\n",
    "    \n",
    "            \n",
    "    def compute_dtheta_from_vectors(self, vectors_in:np.ndarray, vectors_out:np.ndarray) -> np.ndarray:\n",
    "    \n",
    "        '''\n",
    "        Returns the angles between 2 collections of 3D vectors.\n",
    "\n",
    "         INPUT:\n",
    "         - vectors_in:np.ndarray, 3D vectors with shape (3,n_event) or (3)\n",
    "         - vectors_out:np.ndarray, 3D vectors with shape (3,n_event) or (3)\n",
    "\n",
    "\n",
    "         OUTPUT:\n",
    "          - dtheta:np.ndarray, the scattering angle between vectors_in and vectors_in, with shape (n_event) or (1)\n",
    "        '''\n",
    "        # Fill here\n",
    "        \n",
    "        return dtheta\n",
    "    \n",
    "    \n",
    "    def save(self, filename:str, directory:str=\"../data/tracking/\") -> None:\n",
    "        \n",
    "        import pickle\n",
    "        import os.path\n",
    "        assert (os.path.isfile(directory+filename)==False), '{} file already exists!\\\n",
    "        \\n Please choose another filename or delete existing file.'.format(filename)\n",
    "        \n",
    "        with open(directory+filename, 'wb') as f:\n",
    "            pickle.dump(self,f)\n",
    "            print(\"tracking class saved in {}\".format(directory+filename))\n",
    "            \n",
    "\n",
    "\n",
    "    def plot_tracking_summary(self, figname:str=None, directory:str='../figures/tracking_summary/') -> None:\n",
    "\n",
    "        import math\n",
    "        import matplotlib.pyplot as plt\n",
    "        fig,ax = plt.subplots(ncols=2,nrows=3,figsize=(10,10))\n",
    "        fig.suptitle(\"Tracking summary\\n # events = {}\".format(self.n_event))\n",
    "        ax = ax.ravel()\n",
    "\n",
    "        # Seetings\n",
    "        alpha=.2\n",
    "\n",
    "        # Plot theta \n",
    "        ax[0].hist(self.theta_in,bins=100,alpha=alpha,color='red',log=True)\n",
    "        ax[0].set_xlabel(r\"Incoming zenith angle $\\theta_{in}$ [rad]\")\n",
    "\n",
    "        ax[2].hist(self.theta_out,bins=100,alpha=alpha,color='blue',log=True)\n",
    "        ax[2].set_xlabel(r\"Outgoing zenith angle $\\theta_{out}$ [rad]\")\n",
    "\n",
    "        # Plot phi\n",
    "        ax[1].hist(self.phi_in,bins=50,alpha=alpha,color='red')\n",
    "        ax[1].set_xlabel(r\"Incoming azymuthal angle $\\phi{in}$ [rad]\")\n",
    "\n",
    "        ax[3].hist(self.phi_out,bins=50,alpha=alpha,color='blue')\n",
    "        ax[3].set_xlabel(r\"Outgoing azymuthal angle $\\phi_{out}$ [rad]\")\n",
    "\n",
    "        # Plot scattering angle\n",
    "        ax[4].hist(self.dtheta,bins=100,log=True,color='green',alpha=alpha,label='std = {:.2f}'.format(self.dtheta.std()))\n",
    "        ax[4].set_xlabel(r\"Scattering angle $d\\theta$ [rad]\")\n",
    "        ax[4].legend()\n",
    "\n",
    "        ax[5].hist(self.dtheta,\n",
    "                bins=100,\n",
    "                log=True,\n",
    "                color='green',\n",
    "                alpha=alpha,\n",
    "                range=(0,math.pi/10))\n",
    "        ax[5].set_xlabel(r\"Scattering angle $d\\theta$ [rad]\")\n",
    "        ax[5].axvline(x=self.dtheta.mean(),color='red',label='mean = {:.3f}'.format(self.dtheta.mean()))\n",
    "        ax[5].legend()\n",
    "        # Make it look nice\n",
    "        plt.tight_layout()\n",
    "\n",
    "        # Save figure in directory\n",
    "        if(figname is not None):\n",
    "            plt.savefig(directory+figname)\n",
    "        plt.show()"
   ]
  },
  {
   "cell_type": "markdown",
   "id": "53d6f0e9",
   "metadata": {},
   "source": [
    "## <center> Create tracking file\n",
    "\n",
    "Now that our class is created, let try to use it. First, create an empty txt file named `tracking.py` in the `../muograph/tracking/` directory. Make sure you import the required libraries, put your tracking class in the file and save.\n",
    "\n",
    "\n",
    "From now, we simply have to `import` our class from `tracking.py` and we can use it wherever we want! "
   ]
  },
  {
   "cell_type": "code",
   "execution_count": null,
   "id": "8ed83a65-a857-4fb7-9644-cd4da08e09a3",
   "metadata": {},
   "outputs": [],
   "source": [
    "# Import the tracking class\n",
    "import sys\n",
    "sys.path.insert(1,'../muograph/')\n",
    "from tracking.tracking import Tracking"
   ]
  },
  {
   "cell_type": "code",
   "execution_count": null,
   "id": "6eb4f03d",
   "metadata": {},
   "outputs": [],
   "source": [
    "# Import get_hits_from_csv from utils.py\n",
    "from utils.utils import get_hits_from_csv\n",
    "# Get hits\n",
    "hits = get_hits_from_csv('../data/DataCu.csv')"
   ]
  },
  {
   "cell_type": "markdown",
   "id": "cc059b8b-2157-47a3-8b6c-94e4f728ed6f",
   "metadata": {},
   "source": [
    "It takes only **1 line of code** to track our muons!"
   ]
  },
  {
   "cell_type": "code",
   "execution_count": null,
   "id": "4e7655d0",
   "metadata": {},
   "outputs": [],
   "source": [
    "# Instanciate the Tracking class for n_event events only\n",
    "tracks = Tracking(hits=hits[:,:,:10000])"
   ]
  },
  {
   "cell_type": "markdown",
   "id": "7015a25f-224b-4aed-86a1-ead9c477a195",
   "metadata": {},
   "source": [
    "We can also easly access all tracking features! "
   ]
  },
  {
   "cell_type": "code",
   "execution_count": null,
   "id": "4aec1f98-d5cc-4800-86fa-f07c2d749690",
   "metadata": {},
   "outputs": [],
   "source": [
    "# theta_in, theta_out\n",
    "tracks.theta_in, tracks.theta_out"
   ]
  },
  {
   "cell_type": "code",
   "execution_count": null,
   "id": "af460617-d82e-4a52-8472-a1cad2eacfef",
   "metadata": {},
   "outputs": [],
   "source": [
    "# phi_in, phi_out\n",
    "tracks.phi_in, tracks.phi_out"
   ]
  },
  {
   "cell_type": "code",
   "execution_count": null,
   "id": "9b20dd92-8aca-446f-bae6-5029555a4c26",
   "metadata": {},
   "outputs": [],
   "source": [
    "# vectors, points\n",
    "tracks.vectors, tracks.points"
   ]
  },
  {
   "cell_type": "code",
   "execution_count": null,
   "id": "8ab002e2-2d36-4489-8e03-601d49456d54",
   "metadata": {},
   "outputs": [],
   "source": [
    "# dtheta\n",
    "tracks.dtheta"
   ]
  },
  {
   "cell_type": "markdown",
   "id": "083992d7-7855-45a8-a8c0-b8208966b2ac",
   "metadata": {},
   "source": [
    "One can also use the `plot_tracking_summary()` method, which **plots** tracking class relevant **attributes**. If `figname` is provided, the figure will be saved in the `../figures/tracking_summary/` directory."
   ]
  },
  {
   "cell_type": "code",
   "execution_count": null,
   "id": "1c9253b5",
   "metadata": {},
   "outputs": [],
   "source": [
    "# Plotting function\n",
    "tracks.plot_tracking_summary(directory=\"../figures/tracking_summary/\", figname=\"tracking_summary_tutorial\")"
   ]
  },
  {
   "cell_type": "markdown",
   "id": "77b0c5d5-dd14-43b9-bf3e-131157aca74f",
   "metadata": {},
   "source": [
    "The `save()` method allows to save the instance of the tracking class. By default, it will be saved in the `'../data/tracking/'`."
   ]
  },
  {
   "cell_type": "code",
   "execution_count": null,
   "id": "5e8e89fa",
   "metadata": {},
   "outputs": [],
   "source": [
    "# Save our tracks in a file\n",
    "tracks.save(filename=\"tracks_tutorial\")"
   ]
  },
  {
   "cell_type": "markdown",
   "id": "6b39e990-c657-4329-a0c6-7bd65ff53073",
   "metadata": {},
   "source": [
    "To read the saved file, run:"
   ]
  },
  {
   "cell_type": "code",
   "execution_count": null,
   "id": "8dff1abd-4ce2-43e0-b294-6bb1719b2290",
   "metadata": {},
   "outputs": [],
   "source": [
    "directory, filename = '../data/tracking/', 'tracks_tutorial'\n",
    "\n",
    "with open(directory+filename, 'rb') as f:\n",
    "    import pickle\n",
    "    saved_tracks = pickle.load(f)"
   ]
  }
 ],
 "metadata": {
  "kernelspec": {
   "display_name": "Python 3 (ipykernel)",
   "language": "python",
   "name": "python3"
  },
  "language_info": {
   "codemirror_mode": {
    "name": "ipython",
    "version": 3
   },
   "file_extension": ".py",
   "mimetype": "text/x-python",
   "name": "python",
   "nbconvert_exporter": "python",
   "pygments_lexer": "ipython3",
   "version": "3.9.7"
  }
 },
 "nbformat": 4,
 "nbformat_minor": 5
}
