{
 "cells": [
  {
   "cell_type": "code",
   "execution_count": 2,
   "id": "4f071c3f",
   "metadata": {},
   "outputs": [
    {
     "name": "stdout",
     "output_type": "stream",
     "text": [
      "Tracking in progress...\n"
     ]
    },
    {
     "data": {
      "text/html": [
       "\n",
       "<style>\n",
       "    /* Turns off some styling */\n",
       "    progress {\n",
       "        /* gets rid of default border in Firefox and Opera. */\n",
       "        border: none;\n",
       "        /* Needs to be in here for Safari polyfill so background images work as expected. */\n",
       "        background-size: auto;\n",
       "    }\n",
       "    progress:not([value]), progress:not([value])::-webkit-progress-bar {\n",
       "        background: repeating-linear-gradient(45deg, #7e7e7e, #7e7e7e 10px, #5c5c5c 10px, #5c5c5c 20px);\n",
       "    }\n",
       "    .progress-bar-interrupted, .progress-bar-interrupted::-webkit-progress-bar {\n",
       "        background: #F44336;\n",
       "    }\n",
       "</style>\n"
      ],
      "text/plain": [
       "<IPython.core.display.HTML object>"
      ]
     },
     "metadata": {},
     "output_type": "display_data"
    },
    {
     "data": {
      "text/html": [
       "\n",
       "    <div>\n",
       "      <progress value='237887' class='' max='237887' style='width:300px; height:20px; vertical-align: middle;'></progress>\n",
       "      100.00% [237887/237887 01:21&lt;00:00]\n",
       "    </div>\n",
       "    "
      ],
      "text/plain": [
       "<IPython.core.display.HTML object>"
      ]
     },
     "metadata": {},
     "output_type": "display_data"
    },
    {
     "name": "stdout",
     "output_type": "stream",
     "text": [
      "Tracking completed!\n"
     ]
    }
   ],
   "source": [
    "# DOWNLOAD ABHISHEK SLIDES WITH POCA SOLUTION\n",
    "\n",
    "\n",
    "#Usual suspects\n",
    "import matplotlib.pyplot as plt\n",
    "import torch\n",
    "import numpy as np\n",
    "from typing import Tuple, Optional\n",
    "\n",
    "# Import the tracking class\n",
    "import sys\n",
    "sys.path.insert(1,'../muograph/')\n",
    "from tracking.tracking import Tracking\n",
    "\n",
    "# Import get_hits_from_csv from utils.py\n",
    "from utils.utils import get_hits_from_csv\n",
    "# Get hits\n",
    "hits = get_hits_from_csv('../data/DataCu.csv')\n",
    "\n",
    "tracks = Tracking(hits=hits)"
   ]
  },
  {
   "cell_type": "markdown",
   "id": "9fdfc2f7-cae0-4a53-9c62-c632846a6d94",
   "metadata": {},
   "source": [
    "## Reconstruction algorithm: POCA\n",
    "\n",
    "POCA stands for Point Of Closest Approach.\n",
    "\n"
   ]
  },
  {
   "cell_type": "code",
   "execution_count": null,
   "id": "90c84d7b-9bcf-424c-a5e9-9e7765642c3e",
   "metadata": {},
   "outputs": [],
   "source": []
  }
 ],
 "metadata": {
  "kernelspec": {
   "display_name": "Python 3 (ipykernel)",
   "language": "python",
   "name": "python3"
  },
  "language_info": {
   "codemirror_mode": {
    "name": "ipython",
    "version": 3
   },
   "file_extension": ".py",
   "mimetype": "text/x-python",
   "name": "python",
   "nbconvert_exporter": "python",
   "pygments_lexer": "ipython3",
   "version": "3.11.4"
  }
 },
 "nbformat": 4,
 "nbformat_minor": 5
}
