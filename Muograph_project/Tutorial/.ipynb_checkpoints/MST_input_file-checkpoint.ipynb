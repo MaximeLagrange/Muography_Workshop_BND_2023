{
 "cells": [
  {
   "cell_type": "code",
   "execution_count": 1,
   "id": "272edc0a",
   "metadata": {},
   "outputs": [],
   "source": [
    "#Usual suspects\n",
    "import matplotlib.pyplot as plt\n",
    "import torch\n",
    "import numpy as np\n",
    "from typing import Tuple"
   ]
  },
  {
   "attachments": {
    "MST_setup_example.png": {
     "image/png": "[encoded data removed]"
    }
   },
   "cell_type": "markdown",
   "id": "db99a6ba",
   "metadata": {},
   "source": [
    "# Muon Scattering Tomography data file\n",
    "\n",
    "In Muon Scattering Tomography (MST), we are interested in measuring muon's direction before and after it interacts the Volume of Interest (VOI), as show on the figure below.\n",
    "\n",
    "![MST_setup_example.png](attachment:MST_setup_example.png)\n",
    "\n",
    "For each muon, the detector gives a position measurement for each detector panel. For a detector setup with 6 detection planes (3 on top and 3 below the VOI), we excpect the followong data set:"
   ]
  },
  {
   "cell_type": "code",
   "execution_count": 37,
   "id": "3e92c888",
   "metadata": {},
   "outputs": [
    {
     "data": {
      "text/html": [
       "<div>\n",
       "<style scoped>\n",
       "    .dataframe tbody tr th:only-of-type {\n",
       "        vertical-align: middle;\n",
       "    }\n",
       "\n",
       "    .dataframe tbody tr th {\n",
       "        vertical-align: top;\n",
       "    }\n",
       "\n",
       "    .dataframe thead th {\n",
       "        text-align: right;\n",
       "    }\n",
       "</style>\n",
       "<table border=\"1\" class=\"dataframe\">\n",
       "  <thead>\n",
       "    <tr style=\"text-align: right;\">\n",
       "      <th></th>\n",
       "      <th>Event</th>\n",
       "      <th>X0</th>\n",
       "      <th>Y0</th>\n",
       "      <th>Z0</th>\n",
       "      <th>X1</th>\n",
       "      <th>Y1</th>\n",
       "      <th>Z1</th>\n",
       "      <th>X2</th>\n",
       "      <th>Y2</th>\n",
       "      <th>Z2</th>\n",
       "      <th>X3</th>\n",
       "      <th>Y3</th>\n",
       "      <th>Z3</th>\n",
       "      <th>X4</th>\n",
       "      <th>Y4</th>\n",
       "      <th>Z4</th>\n",
       "      <th>X5</th>\n",
       "      <th>Y5</th>\n",
       "      <th>Z5</th>\n",
       "      <th>E</th>\n",
       "    </tr>\n",
       "  </thead>\n",
       "  <tbody>\n",
       "    <tr>\n",
       "      <th>0</th>\n",
       "      <td>3</td>\n",
       "      <td>396.344</td>\n",
       "      <td>209.6560</td>\n",
       "      <td>-55.6</td>\n",
       "      <td>378.947</td>\n",
       "      <td>221.2150</td>\n",
       "      <td>-135.6</td>\n",
       "      <td>291.962</td>\n",
       "      <td>279.0080</td>\n",
       "      <td>-535.6</td>\n",
       "      <td>161.4740</td>\n",
       "      <td>365.6910</td>\n",
       "      <td>-1135.6</td>\n",
       "      <td>74.4866</td>\n",
       "      <td>423.473</td>\n",
       "      <td>-1535.6</td>\n",
       "      <td>57.0893</td>\n",
       "      <td>435.029</td>\n",
       "      <td>-1615.6</td>\n",
       "      <td>1927.980</td>\n",
       "    </tr>\n",
       "    <tr>\n",
       "      <th>1</th>\n",
       "      <td>12</td>\n",
       "      <td>383.618</td>\n",
       "      <td>97.2082</td>\n",
       "      <td>-55.6</td>\n",
       "      <td>344.670</td>\n",
       "      <td>95.2144</td>\n",
       "      <td>-135.6</td>\n",
       "      <td>149.941</td>\n",
       "      <td>85.2355</td>\n",
       "      <td>-535.6</td>\n",
       "      <td>-127.3830</td>\n",
       "      <td>93.4317</td>\n",
       "      <td>-1135.6</td>\n",
       "      <td>-299.3230</td>\n",
       "      <td>115.793</td>\n",
       "      <td>-1535.6</td>\n",
       "      <td>-333.7090</td>\n",
       "      <td>120.264</td>\n",
       "      <td>-1615.6</td>\n",
       "      <td>661.617</td>\n",
       "    </tr>\n",
       "    <tr>\n",
       "      <th>2</th>\n",
       "      <td>34</td>\n",
       "      <td>402.733</td>\n",
       "      <td>-212.8870</td>\n",
       "      <td>-55.6</td>\n",
       "      <td>368.678</td>\n",
       "      <td>-187.0680</td>\n",
       "      <td>-135.6</td>\n",
       "      <td>198.403</td>\n",
       "      <td>-57.9725</td>\n",
       "      <td>-535.6</td>\n",
       "      <td>-57.0133</td>\n",
       "      <td>135.6710</td>\n",
       "      <td>-1135.6</td>\n",
       "      <td>-227.2980</td>\n",
       "      <td>264.771</td>\n",
       "      <td>-1535.6</td>\n",
       "      <td>-261.3560</td>\n",
       "      <td>290.592</td>\n",
       "      <td>-1615.6</td>\n",
       "      <td>3351.900</td>\n",
       "    </tr>\n",
       "    <tr>\n",
       "      <th>3</th>\n",
       "      <td>41</td>\n",
       "      <td>-289.739</td>\n",
       "      <td>-249.2930</td>\n",
       "      <td>-55.6</td>\n",
       "      <td>-269.810</td>\n",
       "      <td>-216.0230</td>\n",
       "      <td>-135.6</td>\n",
       "      <td>-170.166</td>\n",
       "      <td>-49.6759</td>\n",
       "      <td>-535.6</td>\n",
       "      <td>-20.6950</td>\n",
       "      <td>199.8390</td>\n",
       "      <td>-1135.6</td>\n",
       "      <td>78.9538</td>\n",
       "      <td>366.186</td>\n",
       "      <td>-1535.6</td>\n",
       "      <td>98.8835</td>\n",
       "      <td>399.455</td>\n",
       "      <td>-1615.6</td>\n",
       "      <td>5310.730</td>\n",
       "    </tr>\n",
       "    <tr>\n",
       "      <th>4</th>\n",
       "      <td>45</td>\n",
       "      <td>466.338</td>\n",
       "      <td>-216.5230</td>\n",
       "      <td>-55.6</td>\n",
       "      <td>457.783</td>\n",
       "      <td>-184.2540</td>\n",
       "      <td>-135.6</td>\n",
       "      <td>415.015</td>\n",
       "      <td>-22.9226</td>\n",
       "      <td>-535.6</td>\n",
       "      <td>350.8140</td>\n",
       "      <td>219.1870</td>\n",
       "      <td>-1135.6</td>\n",
       "      <td>307.9460</td>\n",
       "      <td>380.652</td>\n",
       "      <td>-1535.6</td>\n",
       "      <td>299.3630</td>\n",
       "      <td>412.931</td>\n",
       "      <td>-1615.6</td>\n",
       "      <td>125.377</td>\n",
       "    </tr>\n",
       "  </tbody>\n",
       "</table>\n",
       "</div>"
      ],
      "text/plain": [
       "   Event       X0        Y0    Z0       X1        Y1     Z1       X2  \\\n",
       "0      3  396.344  209.6560 -55.6  378.947  221.2150 -135.6  291.962   \n",
       "1     12  383.618   97.2082 -55.6  344.670   95.2144 -135.6  149.941   \n",
       "2     34  402.733 -212.8870 -55.6  368.678 -187.0680 -135.6  198.403   \n",
       "3     41 -289.739 -249.2930 -55.6 -269.810 -216.0230 -135.6 -170.166   \n",
       "4     45  466.338 -216.5230 -55.6  457.783 -184.2540 -135.6  415.015   \n",
       "\n",
       "         Y2     Z2        X3        Y3      Z3        X4       Y4      Z4  \\\n",
       "0  279.0080 -535.6  161.4740  365.6910 -1135.6   74.4866  423.473 -1535.6   \n",
       "1   85.2355 -535.6 -127.3830   93.4317 -1135.6 -299.3230  115.793 -1535.6   \n",
       "2  -57.9725 -535.6  -57.0133  135.6710 -1135.6 -227.2980  264.771 -1535.6   \n",
       "3  -49.6759 -535.6  -20.6950  199.8390 -1135.6   78.9538  366.186 -1535.6   \n",
       "4  -22.9226 -535.6  350.8140  219.1870 -1135.6  307.9460  380.652 -1535.6   \n",
       "\n",
       "         X5       Y5      Z5         E  \n",
       "0   57.0893  435.029 -1615.6  1927.980  \n",
       "1 -333.7090  120.264 -1615.6   661.617  \n",
       "2 -261.3560  290.592 -1615.6  3351.900  \n",
       "3   98.8835  399.455 -1615.6  5310.730  \n",
       "4  299.3630  412.931 -1615.6   125.377  "
      ]
     },
     "execution_count": 37,
     "metadata": {},
     "output_type": "execute_result"
    }
   ],
   "source": [
    "import pandas as pd\n",
    "df = pd.read_csv(\"../data/DataCu.csv\")\n",
    "df.head()"
   ]
  },
  {
   "cell_type": "markdown",
   "id": "e88a3ae8",
   "metadata": {},
   "source": [
    "Each detector provides a X and Y position measurement. **Assuming** a **perfect detector alignment** and **calibration**, each muon traverses a given plane at the same $z$ position.\n",
    "\n",
    "## 1 - Formatting input file\n",
    "\n",
    "In order to use these recorded hits for image reconstruction purposes, one needs to use a more convenient data structure than csv. Let us use `numpy.ndarray`:"
   ]
  },
  {
   "cell_type": "code",
   "execution_count": 60,
   "id": "ef3e2e4c",
   "metadata": {},
   "outputs": [
    {
     "data": {
      "text/plain": [
       "numpy.ndarray"
      ]
     },
     "execution_count": 60,
     "metadata": {},
     "output_type": "execute_result"
    }
   ],
   "source": [
    "# Compute # planes from csv\n",
    "n_plane = len([col for col in df.columns if \"X\" in col])\n",
    "\n",
    "# Create array \n",
    "hits = np.zeros((3,n_plane,len(df)))\n",
    "\n",
    "# Fill in array with csv file entries\n",
    "for plane in range(n_plane):\n",
    "    hits[0,plane] = df['X'+str(plane)]\n",
    "    hits[1,plane] = df['Y'+str(plane)]    \n",
    "    hits[2,plane] = df['Z'+str(plane)]\n",
    "    \n",
    "    \n",
    "type(hits)"
   ]
  },
  {
   "cell_type": "markdown",
   "id": "511e4ce0",
   "metadata": {},
   "source": [
    "**Exercice**: Create a function which takes as **input** the csv **filename** and returns the hits in an `np.ndarray` with shape (3,n_plane,n_events)."
   ]
  },
  {
   "cell_type": "code",
   "execution_count": 71,
   "id": "04fc0dfa",
   "metadata": {},
   "outputs": [],
   "source": [
    "def get_hits_from_csv(filname:str,) -> np.ndarray:\n",
    "    \n",
    "    # Fill here\n",
    "    \n",
    "    return 2\n",
    "\n",
    "# def get_hits_from_csv(filename:str,) -> np.ndarray:\n",
    "    \n",
    "#     df = pd.read_csv(filename)\n",
    "    \n",
    "#     # Compute # planes from csv\n",
    "#     n_plane = len([col for col in df.columns if \"X\" in col])\n",
    "    \n",
    "#     # Create array \n",
    "#     hits = np.zeros((3,n_plane,len(df)))\n",
    "    \n",
    "#     # Fill in array with csv file entries\n",
    "#     for plane in range(n_plane):\n",
    "#         hits[0,plane] = df['X'+str(plane)]\n",
    "#         hits[1,plane] = df['Y'+str(plane)]    \n",
    "#         hits[2,plane] = df['Z'+str(plane)]\n",
    "\n",
    "#     return hits"
   ]
  },
  {
   "cell_type": "markdown",
   "id": "6a2c2680",
   "metadata": {},
   "source": [
    "**Test**: Run the test to make sure everything is working fine."
   ]
  },
  {
   "cell_type": "code",
   "execution_count": 72,
   "id": "d9b085b6",
   "metadata": {},
   "outputs": [
    {
     "ename": "AssertionError",
     "evalue": "",
     "output_type": "error",
     "traceback": [
      "\u001b[0;31m---------------------------------------------------------------------------\u001b[0m",
      "\u001b[0;31mAssertionError\u001b[0m                            Traceback (most recent call last)",
      "Cell \u001b[0;32mIn[72], line 9\u001b[0m\n\u001b[1;32m      6\u001b[0m     \u001b[38;5;28;01massert\u001b[39;00m np\u001b[38;5;241m.\u001b[39mshape(hits) \u001b[38;5;241m==\u001b[39m (\u001b[38;5;241m3\u001b[39m, \u001b[38;5;241m6\u001b[39m, \u001b[38;5;241m237887\u001b[39m)\n\u001b[1;32m      7\u001b[0m     \u001b[38;5;28;01massert\u001b[39;00m hits[:,\u001b[38;5;241m0\u001b[39m,\u001b[38;5;241m2167\u001b[39m]\u001b[38;5;241m.\u001b[39mtolist()\u001b[38;5;241m==\u001b[39m[\u001b[38;5;241m303.143\u001b[39m,\u001b[38;5;241m-\u001b[39m\u001b[38;5;241m308.498\u001b[39m,\u001b[38;5;241m-\u001b[39m\u001b[38;5;241m55.6\u001b[39m]\n\u001b[0;32m----> 9\u001b[0m \u001b[43mtest_get_hits_from_csv\u001b[49m\u001b[43m(\u001b[49m\u001b[38;5;124;43m\"\u001b[39;49m\u001b[38;5;124;43m../data/DataCu.csv\u001b[39;49m\u001b[38;5;124;43m\"\u001b[39;49m\u001b[43m)\u001b[49m\n",
      "Cell \u001b[0;32mIn[72], line 5\u001b[0m, in \u001b[0;36mtest_get_hits_from_csv\u001b[0;34m(filename)\u001b[0m\n\u001b[1;32m      2\u001b[0m \u001b[38;5;28;01mimport\u001b[39;00m \u001b[38;5;21;01mnumpy\u001b[39;00m\n\u001b[1;32m      3\u001b[0m hits \u001b[38;5;241m=\u001b[39m get_hits_from_csv(\u001b[38;5;124m\"\u001b[39m\u001b[38;5;124m../data/DataCu.csv\u001b[39m\u001b[38;5;124m\"\u001b[39m)\n\u001b[0;32m----> 5\u001b[0m \u001b[38;5;28;01massert\u001b[39;00m \u001b[38;5;28mtype\u001b[39m(hits) \u001b[38;5;241m==\u001b[39m numpy\u001b[38;5;241m.\u001b[39mndarray\n\u001b[1;32m      6\u001b[0m \u001b[38;5;28;01massert\u001b[39;00m np\u001b[38;5;241m.\u001b[39mshape(hits) \u001b[38;5;241m==\u001b[39m (\u001b[38;5;241m3\u001b[39m, \u001b[38;5;241m6\u001b[39m, \u001b[38;5;241m237887\u001b[39m)\n\u001b[1;32m      7\u001b[0m \u001b[38;5;28;01massert\u001b[39;00m hits[:,\u001b[38;5;241m0\u001b[39m,\u001b[38;5;241m2167\u001b[39m]\u001b[38;5;241m.\u001b[39mtolist()\u001b[38;5;241m==\u001b[39m[\u001b[38;5;241m303.143\u001b[39m,\u001b[38;5;241m-\u001b[39m\u001b[38;5;241m308.498\u001b[39m,\u001b[38;5;241m-\u001b[39m\u001b[38;5;241m55.6\u001b[39m]\n",
      "\u001b[0;31mAssertionError\u001b[0m: "
     ]
    }
   ],
   "source": [
    "def test_get_hits_from_csv(filename) -> None:\n",
    "    import numpy\n",
    "    hits = get_hits_from_csv(\"../data/DataCu.csv\")\n",
    "    \n",
    "    assert type(hits) == numpy.ndarray\n",
    "    assert np.shape(hits) == (3, 6, 237887)\n",
    "    assert hits[:,0,2167].tolist()==[303.143,-308.498,-55.6]\n",
    "    \n",
    "test_get_hits_from_csv(\"../data/DataCu.csv\")"
   ]
  },
  {
   "cell_type": "markdown",
   "id": "447644f0",
   "metadata": {},
   "source": []
  },
  {
   "cell_type": "code",
   "execution_count": null,
   "id": "57c52505",
   "metadata": {},
   "outputs": [],
   "source": []
  },
  {
   "cell_type": "markdown",
   "id": "780ff1bf",
   "metadata": {},
   "source": [
    "## Spatial resolution\n",
    "\n",
    "Detector panels are not perfect, and record muon position $x$ with a certain precision. $\\sigma_x$ is the spatial resolution and is defined as the standard deviation $\\sigma$ of the distribution of the error on position measurement  $\\delta_x$:$$\\sigma_x = \\sigma\\left(\\delta_x\\right)$$"
   ]
  },
  {
   "cell_type": "code",
   "execution_count": 33,
   "id": "b50cf99e",
   "metadata": {},
   "outputs": [
    {
     "data": {
      "image/png": "[encoded data removed]",
      "text/plain": [
       "<Figure size 640x480 with 1 Axes>"
      ]
     },
     "metadata": {},
     "output_type": "display_data"
    }
   ],
   "source": [
    "# True position\n",
    "x_true = np.random.random(size=10000)\n",
    "\n",
    "# Gaussian noise\n",
    "error_1 = np.random.normal(loc=0,scale=0.1,size=10000)\n",
    "error_2 = np.random.normal(loc=0,scale=0.05,size=10000)\n",
    "\n",
    "# Reconstructed position\n",
    "x_rec = x_true + error_1 - error_2\n",
    "\n",
    "# Plot error distribution\n",
    "fig,ax = plt.subplots()\n",
    "ax.hist(x_rec-x_true, bins=50, label=r'$\\sigma_x$ = {:.3f}'.format(np.std(x_rec-x_true)),alpha=.5)\n",
    "ax.axvline(x=np.mean(x_rec-x_true),label='mean = {:.3f}'.format(np.mean(x_rec-x_true)),color='red')\n",
    "ax.set_xlabel(r\"Error on $x$ measurement $\\delta_x$\")\n",
    "ax.legend()\n",
    "plt.show()"
   ]
  }
 ],
 "metadata": {
  "kernelspec": {
   "display_name": "Python 3 (ipykernel)",
   "language": "python",
   "name": "python3"
  },
  "language_info": {
   "codemirror_mode": {
    "name": "ipython",
    "version": 3
   },
   "file_extension": ".py",
   "mimetype": "text/x-python",
   "name": "python",
   "nbconvert_exporter": "python",
   "pygments_lexer": "ipython3",
   "version": "3.11.4"
  }
 },
 "nbformat": 4,
 "nbformat_minor": 5
}
